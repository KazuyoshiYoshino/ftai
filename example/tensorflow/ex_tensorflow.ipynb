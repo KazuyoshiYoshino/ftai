{
 "cells": [
  {
   "cell_type": "markdown",
   "metadata": {},
   "source": [
    "# Tensorflow\n"
   ]
  },
  {
   "cell_type": "code",
   "execution_count": 7,
   "metadata": {
    "collapsed": false
   },
   "outputs": [],
   "source": [
    "import numpy as np\n",
    "import pandas as pd\n",
    "\n",
    "import tensorflow as tf\n",
    "sess = tf.InteractiveSession()"
   ]
  },
  {
   "cell_type": "code",
   "execution_count": 2,
   "metadata": {
    "collapsed": true
   },
   "outputs": [],
   "source": [
    "from sklearn.preprocessing import scale\n",
    "import matplotlib.pyplot as plt\n",
    "%matplotlib inline\n",
    "\n",
    "# なんかDeprecationWarning出るかもだけど無視で良いようだ"
   ]
  },
  {
   "cell_type": "markdown",
   "metadata": {},
   "source": [
    "## データ準備"
   ]
  },
  {
   "cell_type": "code",
   "execution_count": 3,
   "metadata": {
    "collapsed": false
   },
   "outputs": [
    {
     "data": {
      "text/html": [
       "<div>\n",
       "<table border=\"1\" class=\"dataframe\">\n",
       "  <thead>\n",
       "    <tr style=\"text-align: right;\">\n",
       "      <th></th>\n",
       "      <th>in0</th>\n",
       "      <th>in1</th>\n",
       "      <th>in2</th>\n",
       "      <th>in3</th>\n",
       "      <th>in4</th>\n",
       "      <th>in5</th>\n",
       "      <th>in6</th>\n",
       "      <th>in7</th>\n",
       "      <th>out</th>\n",
       "    </tr>\n",
       "  </thead>\n",
       "  <tbody>\n",
       "    <tr>\n",
       "      <th>0</th>\n",
       "      <td>0.790158</td>\n",
       "      <td>0.154701</td>\n",
       "      <td>0.554273</td>\n",
       "      <td>0.589591</td>\n",
       "      <td>0.652273</td>\n",
       "      <td>0.809005</td>\n",
       "      <td>0.727239</td>\n",
       "      <td>0.722377</td>\n",
       "      <td>0</td>\n",
       "    </tr>\n",
       "    <tr>\n",
       "      <th>1</th>\n",
       "      <td>0.966113</td>\n",
       "      <td>0.082956</td>\n",
       "      <td>0.427091</td>\n",
       "      <td>0.313592</td>\n",
       "      <td>0.036717</td>\n",
       "      <td>0.688759</td>\n",
       "      <td>0.747233</td>\n",
       "      <td>0.084873</td>\n",
       "      <td>1</td>\n",
       "    </tr>\n",
       "    <tr>\n",
       "      <th>2</th>\n",
       "      <td>0.744551</td>\n",
       "      <td>0.080415</td>\n",
       "      <td>0.534023</td>\n",
       "      <td>0.874443</td>\n",
       "      <td>0.058886</td>\n",
       "      <td>0.941214</td>\n",
       "      <td>0.234062</td>\n",
       "      <td>0.138623</td>\n",
       "      <td>2</td>\n",
       "    </tr>\n",
       "    <tr>\n",
       "      <th>3</th>\n",
       "      <td>0.386799</td>\n",
       "      <td>0.339775</td>\n",
       "      <td>0.758028</td>\n",
       "      <td>0.176749</td>\n",
       "      <td>0.545578</td>\n",
       "      <td>0.645455</td>\n",
       "      <td>0.264393</td>\n",
       "      <td>0.762566</td>\n",
       "      <td>0</td>\n",
       "    </tr>\n",
       "    <tr>\n",
       "      <th>4</th>\n",
       "      <td>0.000760</td>\n",
       "      <td>0.339114</td>\n",
       "      <td>0.865157</td>\n",
       "      <td>0.730987</td>\n",
       "      <td>0.061821</td>\n",
       "      <td>0.209777</td>\n",
       "      <td>0.090273</td>\n",
       "      <td>0.183841</td>\n",
       "      <td>1</td>\n",
       "    </tr>\n",
       "    <tr>\n",
       "      <th>5</th>\n",
       "      <td>0.497581</td>\n",
       "      <td>0.680770</td>\n",
       "      <td>0.914901</td>\n",
       "      <td>0.990791</td>\n",
       "      <td>0.040909</td>\n",
       "      <td>0.355208</td>\n",
       "      <td>0.881591</td>\n",
       "      <td>0.513112</td>\n",
       "      <td>2</td>\n",
       "    </tr>\n",
       "    <tr>\n",
       "      <th>6</th>\n",
       "      <td>0.531146</td>\n",
       "      <td>0.372347</td>\n",
       "      <td>0.246750</td>\n",
       "      <td>0.270516</td>\n",
       "      <td>0.120391</td>\n",
       "      <td>0.682658</td>\n",
       "      <td>0.272929</td>\n",
       "      <td>0.861646</td>\n",
       "      <td>0</td>\n",
       "    </tr>\n",
       "    <tr>\n",
       "      <th>7</th>\n",
       "      <td>0.475195</td>\n",
       "      <td>0.512204</td>\n",
       "      <td>0.533743</td>\n",
       "      <td>0.152647</td>\n",
       "      <td>0.070142</td>\n",
       "      <td>0.915401</td>\n",
       "      <td>0.297802</td>\n",
       "      <td>0.617966</td>\n",
       "      <td>1</td>\n",
       "    </tr>\n",
       "    <tr>\n",
       "      <th>8</th>\n",
       "      <td>0.841105</td>\n",
       "      <td>0.780319</td>\n",
       "      <td>0.212918</td>\n",
       "      <td>0.535849</td>\n",
       "      <td>0.639757</td>\n",
       "      <td>0.296344</td>\n",
       "      <td>0.653013</td>\n",
       "      <td>0.106019</td>\n",
       "      <td>2</td>\n",
       "    </tr>\n",
       "    <tr>\n",
       "      <th>9</th>\n",
       "      <td>0.221653</td>\n",
       "      <td>0.749487</td>\n",
       "      <td>0.411809</td>\n",
       "      <td>0.103275</td>\n",
       "      <td>0.610809</td>\n",
       "      <td>0.310699</td>\n",
       "      <td>0.501801</td>\n",
       "      <td>0.186794</td>\n",
       "      <td>0</td>\n",
       "    </tr>\n",
       "  </tbody>\n",
       "</table>\n",
       "</div>"
      ],
      "text/plain": [
       "        in0       in1       in2       in3       in4       in5       in6  \\\n",
       "0  0.790158  0.154701  0.554273  0.589591  0.652273  0.809005  0.727239   \n",
       "1  0.966113  0.082956  0.427091  0.313592  0.036717  0.688759  0.747233   \n",
       "2  0.744551  0.080415  0.534023  0.874443  0.058886  0.941214  0.234062   \n",
       "3  0.386799  0.339775  0.758028  0.176749  0.545578  0.645455  0.264393   \n",
       "4  0.000760  0.339114  0.865157  0.730987  0.061821  0.209777  0.090273   \n",
       "5  0.497581  0.680770  0.914901  0.990791  0.040909  0.355208  0.881591   \n",
       "6  0.531146  0.372347  0.246750  0.270516  0.120391  0.682658  0.272929   \n",
       "7  0.475195  0.512204  0.533743  0.152647  0.070142  0.915401  0.297802   \n",
       "8  0.841105  0.780319  0.212918  0.535849  0.639757  0.296344  0.653013   \n",
       "9  0.221653  0.749487  0.411809  0.103275  0.610809  0.310699  0.501801   \n",
       "\n",
       "        in7  out  \n",
       "0  0.722377    0  \n",
       "1  0.084873    1  \n",
       "2  0.138623    2  \n",
       "3  0.762566    0  \n",
       "4  0.183841    1  \n",
       "5  0.513112    2  \n",
       "6  0.861646    0  \n",
       "7  0.617966    1  \n",
       "8  0.106019    2  \n",
       "9  0.186794    0  "
      ]
     },
     "execution_count": 3,
     "metadata": {},
     "output_type": "execute_result"
    }
   ],
   "source": [
    "inputCSV = pd.read_csv('sample.csv')\n",
    "inputCSV.head(10)"
   ]
  },
  {
   "cell_type": "code",
   "execution_count": 4,
   "metadata": {
    "collapsed": false
   },
   "outputs": [
    {
     "data": {
      "text/html": [
       "<div>\n",
       "<table border=\"1\" class=\"dataframe\">\n",
       "  <thead>\n",
       "    <tr style=\"text-align: right;\">\n",
       "      <th></th>\n",
       "      <th>in0</th>\n",
       "      <th>in1</th>\n",
       "      <th>in2</th>\n",
       "      <th>in3</th>\n",
       "      <th>in4</th>\n",
       "      <th>in5</th>\n",
       "      <th>in6</th>\n",
       "      <th>in7</th>\n",
       "      <th>out</th>\n",
       "    </tr>\n",
       "  </thead>\n",
       "  <tbody>\n",
       "    <tr>\n",
       "      <th>507</th>\n",
       "      <td>0.081299</td>\n",
       "      <td>0.211832</td>\n",
       "      <td>0.090765</td>\n",
       "      <td>0.365348</td>\n",
       "      <td>0.209460</td>\n",
       "      <td>0.175461</td>\n",
       "      <td>0.765545</td>\n",
       "      <td>0.416299</td>\n",
       "      <td>0</td>\n",
       "    </tr>\n",
       "    <tr>\n",
       "      <th>489</th>\n",
       "      <td>0.546639</td>\n",
       "      <td>0.604220</td>\n",
       "      <td>0.488729</td>\n",
       "      <td>0.302390</td>\n",
       "      <td>0.694225</td>\n",
       "      <td>0.324834</td>\n",
       "      <td>0.165327</td>\n",
       "      <td>0.623842</td>\n",
       "      <td>0</td>\n",
       "    </tr>\n",
       "    <tr>\n",
       "      <th>540</th>\n",
       "      <td>0.356658</td>\n",
       "      <td>0.571525</td>\n",
       "      <td>0.853384</td>\n",
       "      <td>0.708824</td>\n",
       "      <td>0.797164</td>\n",
       "      <td>0.469831</td>\n",
       "      <td>0.017880</td>\n",
       "      <td>0.370262</td>\n",
       "      <td>0</td>\n",
       "    </tr>\n",
       "    <tr>\n",
       "      <th>121</th>\n",
       "      <td>0.168601</td>\n",
       "      <td>0.284928</td>\n",
       "      <td>0.625196</td>\n",
       "      <td>0.986523</td>\n",
       "      <td>0.301493</td>\n",
       "      <td>0.755389</td>\n",
       "      <td>0.570782</td>\n",
       "      <td>0.955441</td>\n",
       "      <td>1</td>\n",
       "    </tr>\n",
       "    <tr>\n",
       "      <th>151</th>\n",
       "      <td>0.842099</td>\n",
       "      <td>0.923185</td>\n",
       "      <td>0.878577</td>\n",
       "      <td>0.362013</td>\n",
       "      <td>0.534762</td>\n",
       "      <td>0.558460</td>\n",
       "      <td>0.085047</td>\n",
       "      <td>0.850596</td>\n",
       "      <td>1</td>\n",
       "    </tr>\n",
       "    <tr>\n",
       "      <th>387</th>\n",
       "      <td>0.437974</td>\n",
       "      <td>0.215786</td>\n",
       "      <td>0.565404</td>\n",
       "      <td>0.700170</td>\n",
       "      <td>0.985114</td>\n",
       "      <td>0.994091</td>\n",
       "      <td>0.366929</td>\n",
       "      <td>0.062027</td>\n",
       "      <td>0</td>\n",
       "    </tr>\n",
       "    <tr>\n",
       "      <th>401</th>\n",
       "      <td>0.515661</td>\n",
       "      <td>0.902747</td>\n",
       "      <td>0.870215</td>\n",
       "      <td>0.858152</td>\n",
       "      <td>0.451101</td>\n",
       "      <td>0.719479</td>\n",
       "      <td>0.630129</td>\n",
       "      <td>0.799939</td>\n",
       "      <td>2</td>\n",
       "    </tr>\n",
       "    <tr>\n",
       "      <th>0</th>\n",
       "      <td>0.790158</td>\n",
       "      <td>0.154701</td>\n",
       "      <td>0.554273</td>\n",
       "      <td>0.589591</td>\n",
       "      <td>0.652273</td>\n",
       "      <td>0.809005</td>\n",
       "      <td>0.727239</td>\n",
       "      <td>0.722377</td>\n",
       "      <td>0</td>\n",
       "    </tr>\n",
       "    <tr>\n",
       "      <th>517</th>\n",
       "      <td>0.758566</td>\n",
       "      <td>0.981645</td>\n",
       "      <td>0.207670</td>\n",
       "      <td>0.806964</td>\n",
       "      <td>0.514452</td>\n",
       "      <td>0.933943</td>\n",
       "      <td>0.389607</td>\n",
       "      <td>0.351646</td>\n",
       "      <td>1</td>\n",
       "    </tr>\n",
       "    <tr>\n",
       "      <th>302</th>\n",
       "      <td>0.052980</td>\n",
       "      <td>0.337514</td>\n",
       "      <td>0.072952</td>\n",
       "      <td>0.025934</td>\n",
       "      <td>0.122332</td>\n",
       "      <td>0.025944</td>\n",
       "      <td>0.667367</td>\n",
       "      <td>0.229025</td>\n",
       "      <td>2</td>\n",
       "    </tr>\n",
       "  </tbody>\n",
       "</table>\n",
       "</div>"
      ],
      "text/plain": [
       "          in0       in1       in2       in3       in4       in5       in6  \\\n",
       "507  0.081299  0.211832  0.090765  0.365348  0.209460  0.175461  0.765545   \n",
       "489  0.546639  0.604220  0.488729  0.302390  0.694225  0.324834  0.165327   \n",
       "540  0.356658  0.571525  0.853384  0.708824  0.797164  0.469831  0.017880   \n",
       "121  0.168601  0.284928  0.625196  0.986523  0.301493  0.755389  0.570782   \n",
       "151  0.842099  0.923185  0.878577  0.362013  0.534762  0.558460  0.085047   \n",
       "387  0.437974  0.215786  0.565404  0.700170  0.985114  0.994091  0.366929   \n",
       "401  0.515661  0.902747  0.870215  0.858152  0.451101  0.719479  0.630129   \n",
       "0    0.790158  0.154701  0.554273  0.589591  0.652273  0.809005  0.727239   \n",
       "517  0.758566  0.981645  0.207670  0.806964  0.514452  0.933943  0.389607   \n",
       "302  0.052980  0.337514  0.072952  0.025934  0.122332  0.025944  0.667367   \n",
       "\n",
       "          in7  out  \n",
       "507  0.416299    0  \n",
       "489  0.623842    0  \n",
       "540  0.370262    0  \n",
       "121  0.955441    1  \n",
       "151  0.850596    1  \n",
       "387  0.062027    0  \n",
       "401  0.799939    2  \n",
       "0    0.722377    0  \n",
       "517  0.351646    1  \n",
       "302  0.229025    2  "
      ]
     },
     "execution_count": 4,
     "metadata": {},
     "output_type": "execute_result"
    }
   ],
   "source": [
    "# データの並びをシャッフル\n",
    "calcData = inputCSV.reindex(np.random.permutation(inputCSV.index))\n",
    "calcData.head(10)"
   ]
  },
  {
   "cell_type": "code",
   "execution_count": 5,
   "metadata": {
    "collapsed": true
   },
   "outputs": [],
   "source": [
    "# 入力データと教師データに分割\n",
    "pd_y = calcData['out']\n",
    "pd_x = calcData.drop(['out'], axis=1)\n",
    "\n",
    "# numpy配列にデータフレームから変換\n",
    "x_array = pd_x.as_matrix()\n",
    "y_array = pd_y.as_matrix()"
   ]
  },
  {
   "cell_type": "code",
   "execution_count": 6,
   "metadata": {
    "collapsed": false
   },
   "outputs": [
    {
     "name": "stdout",
     "output_type": "stream",
     "text": [
      "学習データサンプル数： 550\n",
      "テストデータサンプル数： 99\n"
     ]
    }
   ],
   "source": [
    "# 正規化し,float32の型に変換\n",
    "x_scale = scale(x_array).astype(np.float32)\n",
    "y_scale = y_array.astype(np.int32)\n",
    "\n",
    "# サンプルの一部をテストデータ用に分割\n",
    "N = 550\n",
    "x_train, x_test = np.split(x_scale, [N])\n",
    "y_train, y_test = np.split(y_scale, [N])\n",
    "N_test = y_test.size\n",
    "\n",
    "print(u'学習データサンプル数：', N)\n",
    "print(u'テストデータサンプル数：', N_test)"
   ]
  },
  {
   "cell_type": "markdown",
   "metadata": {},
   "source": [
    "## deep learning"
   ]
  },
  {
   "cell_type": "code",
   "execution_count": 11,
   "metadata": {
    "collapsed": true
   },
   "outputs": [],
   "source": [
    "x = tf.placeholder(tf.float32, shape=[None, 50])\n",
    "y_ = tf.placeholder(tf.float32, shape=[None, 3])"
   ]
  },
  {
   "cell_type": "code",
   "execution_count": 12,
   "metadata": {
    "collapsed": true
   },
   "outputs": [],
   "source": [
    "W = tf.Variable(tf.zeros([50,3]))\n",
    "b = tf.Variable(tf.zeros([3]))"
   ]
  },
  {
   "cell_type": "code",
   "execution_count": 13,
   "metadata": {
    "collapsed": true
   },
   "outputs": [],
   "source": [
    "sess.run(tf.initialize_all_variables())"
   ]
  },
  {
   "cell_type": "code",
   "execution_count": 14,
   "metadata": {
    "collapsed": false
   },
   "outputs": [],
   "source": [
    "y = tf.nn.softmax(tf.matmul(x,W) + b)"
   ]
  },
  {
   "cell_type": "code",
   "execution_count": 15,
   "metadata": {
    "collapsed": true
   },
   "outputs": [],
   "source": [
    "cross_entropy = tf.reduce_mean(-tf.reduce_sum(y_ * tf.log(y), reduction_indices=[1]))"
   ]
  },
  {
   "cell_type": "code",
   "execution_count": 16,
   "metadata": {
    "collapsed": true
   },
   "outputs": [],
   "source": [
    "train_step = tf.train.GradientDescentOptimizer(0.5).minimize(cross_entropy)"
   ]
  },
  {
   "cell_type": "code",
   "execution_count": 18,
   "metadata": {
    "collapsed": false
   },
   "outputs": [],
   "source": [
    "# train part"
   ]
  },
  {
   "cell_type": "code",
   "execution_count": null,
   "metadata": {
    "collapsed": true
   },
   "outputs": [],
   "source": []
  }
 ],
 "metadata": {
  "kernelspec": {
   "display_name": "Python 3",
   "language": "python",
   "name": "python3"
  },
  "language_info": {
   "codemirror_mode": {
    "name": "ipython",
    "version": 3
   },
   "file_extension": ".py",
   "mimetype": "text/x-python",
   "name": "python",
   "nbconvert_exporter": "python",
   "pygments_lexer": "ipython3",
   "version": "3.5.0"
  }
 },
 "nbformat": 4,
 "nbformat_minor": 0
}
