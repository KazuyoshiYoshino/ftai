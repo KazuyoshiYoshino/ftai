{
 "cells": [
  {
   "cell_type": "markdown",
   "metadata": {},
   "source": [
    "## 設定"
   ]
  },
  {
   "cell_type": "code",
   "execution_count": 71,
   "metadata": {
    "collapsed": false
   },
   "outputs": [],
   "source": [
    "import numpy as np\n",
    "import pandas as pd\n",
    "import six\n",
    "import quandl as ql\n",
    "import pandas as pd\n",
    "import datetime\n",
    "\n",
    "import chainer\n",
    "# from chainer import computational_graph  # need GraphViz\n",
    "# from chainer import cuda  # For GPU\n",
    "import chainer.links as L\n",
    "import chainer.functions as F\n",
    "from chainer import optimizers\n",
    "from chainer import serializers\n"
   ]
  },
  {
   "cell_type": "code",
   "execution_count": 40,
   "metadata": {
    "collapsed": false
   },
   "outputs": [],
   "source": [
    "from sklearn.preprocessing import scale\n",
    "import matplotlib.pyplot as plt\n",
    "%matplotlib inline"
   ]
  },
  {
   "cell_type": "code",
   "execution_count": 41,
   "metadata": {
    "collapsed": false
   },
   "outputs": [],
   "source": [
    "# Quandle用API Key の設定\n",
    "ql.ApiConfig.api_key = 'CbzNMfBFSFEFsiNNAe97' # APIKeyを置かないと取得制限"
   ]
  },
  {
   "cell_type": "markdown",
   "metadata": {},
   "source": [
    "## データの取得\n",
    "目的変数　：　USD/JPY\n",
    "\n",
    "説明変数　：　USD/JPY（１〜30日前）、日経平均、S&P株価、日本GDP、米国GDP、日本国債金利(10年)、米国国債金利(10年)"
   ]
  },
  {
   "cell_type": "code",
   "execution_count": 49,
   "metadata": {
    "collapsed": false,
    "scrolled": true
   },
   "outputs": [
    {
     "data": {
      "text/html": [
       "<div>\n",
       "<table border=\"1\" class=\"dataframe\">\n",
       "  <thead>\n",
       "    <tr style=\"text-align: right;\">\n",
       "      <th></th>\n",
       "      <th>USD/JPY</th>\n",
       "    </tr>\n",
       "    <tr>\n",
       "      <th>DATE</th>\n",
       "      <th></th>\n",
       "    </tr>\n",
       "  </thead>\n",
       "  <tbody>\n",
       "    <tr>\n",
       "      <th>2016-06-20</th>\n",
       "      <td>104.32</td>\n",
       "    </tr>\n",
       "    <tr>\n",
       "      <th>2016-06-21</th>\n",
       "      <td>104.56</td>\n",
       "    </tr>\n",
       "    <tr>\n",
       "      <th>2016-06-22</th>\n",
       "      <td>104.56</td>\n",
       "    </tr>\n",
       "    <tr>\n",
       "      <th>2016-06-23</th>\n",
       "      <td>105.90</td>\n",
       "    </tr>\n",
       "    <tr>\n",
       "      <th>2016-06-24</th>\n",
       "      <td>102.26</td>\n",
       "    </tr>\n",
       "  </tbody>\n",
       "</table>\n",
       "</div>"
      ],
      "text/plain": [
       "            USD/JPY\n",
       "DATE               \n",
       "2016-06-20   104.32\n",
       "2016-06-21   104.56\n",
       "2016-06-22   104.56\n",
       "2016-06-23   105.90\n",
       "2016-06-24   102.26"
      ]
     },
     "execution_count": 49,
     "metadata": {},
     "output_type": "execute_result"
    }
   ],
   "source": [
    "# USD/JPY\n",
    "df_USD_JPY = ql.get('FRED/DEXJPUS')\n",
    "df_USD_JPY.rename(columns={\"VALUE\":\"USD/JPY\"},inplace=True)\n",
    "df_USD_JPY.tail(5)"
   ]
  },
  {
   "cell_type": "code",
   "execution_count": 72,
   "metadata": {
    "collapsed": false
   },
   "outputs": [
    {
     "data": {
      "text/plain": [
       "DatetimeIndex(['1971-01-06', '1971-01-07', '1971-01-08', '1971-01-09',\n",
       "               '1971-01-12', '1971-01-13', '1971-01-14', '1971-01-15',\n",
       "               '1971-01-16', '1971-01-19',\n",
       "               ...\n",
       "               '2016-06-11', '2016-06-14', '2016-06-15', '2016-06-16',\n",
       "               '2016-06-17', '2016-06-18', '2016-06-21', '2016-06-22',\n",
       "               '2016-06-23', '2016-06-24'],\n",
       "              dtype='datetime64[ns]', name='DATE', length=11408, freq=None)"
      ]
     },
     "execution_count": 72,
     "metadata": {},
     "output_type": "execute_result"
    }
   ],
   "source": [
    "# 1日づつずらして説明変数を作成\n",
    "for in range(1:30)\n",
    "    df_USD_JPY_1 = df_USD_JPY.ix[i:(len(df_USD_JPY)-i),]\n",
    "    df_USD_JPY_1.index + datetime.timedelta(days=i)"
   ]
  },
  {
   "cell_type": "code",
   "execution_count": 50,
   "metadata": {
    "collapsed": false
   },
   "outputs": [
    {
     "data": {
      "text/plain": [
       "DatetimeIndex(['1971-01-04', '1971-01-05', '1971-01-06', '1971-01-07',\n",
       "               '1971-01-08', '1971-01-11', '1971-01-12', '1971-01-13',\n",
       "               '1971-01-14', '1971-01-15',\n",
       "               ...\n",
       "               '2016-06-13', '2016-06-14', '2016-06-15', '2016-06-16',\n",
       "               '2016-06-17', '2016-06-20', '2016-06-21', '2016-06-22',\n",
       "               '2016-06-23', '2016-06-24'],\n",
       "              dtype='datetime64[ns]', name='DATE', length=11410, freq=None)"
      ]
     },
     "execution_count": 50,
     "metadata": {},
     "output_type": "execute_result"
    }
   ],
   "source": [
    "# 目的変数（USD/JPY）のデータが存在する日付を取得\n",
    "df_USD_JPY.index"
   ]
  },
  {
   "cell_type": "code",
   "execution_count": 42,
   "metadata": {
    "collapsed": false
   },
   "outputs": [
    {
     "data": {
      "text/html": [
       "<div>\n",
       "<table border=\"1\" class=\"dataframe\">\n",
       "  <thead>\n",
       "    <tr style=\"text-align: right;\">\n",
       "      <th></th>\n",
       "      <th>NIKKEI</th>\n",
       "      <th>SP500</th>\n",
       "    </tr>\n",
       "    <tr>\n",
       "      <th>Date</th>\n",
       "      <th></th>\n",
       "      <th></th>\n",
       "    </tr>\n",
       "  </thead>\n",
       "  <tbody>\n",
       "    <tr>\n",
       "      <th>2016-06-28</th>\n",
       "      <td>15323.14</td>\n",
       "      <td>2036.089966</td>\n",
       "    </tr>\n",
       "    <tr>\n",
       "      <th>2016-06-29</th>\n",
       "      <td>15566.83</td>\n",
       "      <td>2070.770020</td>\n",
       "    </tr>\n",
       "    <tr>\n",
       "      <th>2016-06-30</th>\n",
       "      <td>15575.92</td>\n",
       "      <td>2098.860107</td>\n",
       "    </tr>\n",
       "    <tr>\n",
       "      <th>2016-07-01</th>\n",
       "      <td>15682.48</td>\n",
       "      <td>2102.949951</td>\n",
       "    </tr>\n",
       "    <tr>\n",
       "      <th>2016-07-04</th>\n",
       "      <td>15775.80</td>\n",
       "      <td>NaN</td>\n",
       "    </tr>\n",
       "  </tbody>\n",
       "</table>\n",
       "</div>"
      ],
      "text/plain": [
       "              NIKKEI        SP500\n",
       "Date                             \n",
       "2016-06-28  15323.14  2036.089966\n",
       "2016-06-29  15566.83  2070.770020\n",
       "2016-06-30  15575.92  2098.860107\n",
       "2016-07-01  15682.48  2102.949951\n",
       "2016-07-04  15775.80          NaN"
      ]
     },
     "execution_count": 42,
     "metadata": {},
     "output_type": "execute_result"
    }
   ],
   "source": [
    "# 日経平均株価、S&P株価\n",
    "df_STOCK = ql.get(['NIKKEI/INDEX', 'YAHOO/INDEX_GSPC']) \n",
    "df_STOCK = df_STOCK.ix[:,df_STOCK.columns.isin([\"NIKKEI/INDEX - Close Price\",\"YAHOO/INDEX_GSPC - Close\"])]\n",
    "df_STOCK.rename(columns={\"NIKKEI/INDEX - Close Price\":\"NIKKEI\", \"YAHOO/INDEX_GSPC - Close\": \"SP500\"},inplace=True)\n",
    "df_STOCK.tail(5)"
   ]
  },
  {
   "cell_type": "code",
   "execution_count": 43,
   "metadata": {
    "collapsed": false,
    "scrolled": true
   },
   "outputs": [
    {
     "data": {
      "text/html": [
       "<div>\n",
       "<table border=\"1\" class=\"dataframe\">\n",
       "  <thead>\n",
       "    <tr style=\"text-align: right;\">\n",
       "      <th></th>\n",
       "      <th>GDP_JP</th>\n",
       "    </tr>\n",
       "    <tr>\n",
       "      <th>Date</th>\n",
       "      <th></th>\n",
       "    </tr>\n",
       "  </thead>\n",
       "  <tbody>\n",
       "    <tr>\n",
       "      <th>2017-12-31</th>\n",
       "      <td>530842.754</td>\n",
       "    </tr>\n",
       "    <tr>\n",
       "      <th>2018-12-31</th>\n",
       "      <td>532773.000</td>\n",
       "    </tr>\n",
       "    <tr>\n",
       "      <th>2019-12-31</th>\n",
       "      <td>536478.458</td>\n",
       "    </tr>\n",
       "    <tr>\n",
       "      <th>2020-12-31</th>\n",
       "      <td>540236.014</td>\n",
       "    </tr>\n",
       "    <tr>\n",
       "      <th>2021-12-31</th>\n",
       "      <td>543790.697</td>\n",
       "    </tr>\n",
       "  </tbody>\n",
       "</table>\n",
       "</div>"
      ],
      "text/plain": [
       "                GDP_JP\n",
       "Date                  \n",
       "2017-12-31  530842.754\n",
       "2018-12-31  532773.000\n",
       "2019-12-31  536478.458\n",
       "2020-12-31  540236.014\n",
       "2021-12-31  543790.697"
      ]
     },
     "execution_count": 43,
     "metadata": {},
     "output_type": "execute_result"
    }
   ],
   "source": [
    "# 日本GDP\n",
    "df_GDP_JP = ql.get('ODA/JPN_NGDP_R')\n",
    "df_GDP_JP.rename(columns={\"Value\":\"GDP_JP\"},inplace=True)\n",
    "df_GDP_JP.tail(5)"
   ]
  },
  {
   "cell_type": "code",
   "execution_count": 51,
   "metadata": {
    "collapsed": false
   },
   "outputs": [
    {
     "data": {
      "text/html": [
       "<div>\n",
       "<table border=\"1\" class=\"dataframe\">\n",
       "  <thead>\n",
       "    <tr style=\"text-align: right;\">\n",
       "      <th></th>\n",
       "      <th>GDP_JP</th>\n",
       "    </tr>\n",
       "    <tr>\n",
       "      <th>Date</th>\n",
       "      <th></th>\n",
       "    </tr>\n",
       "  </thead>\n",
       "  <tbody>\n",
       "    <tr>\n",
       "      <th>1980-12-31</th>\n",
       "      <td>269833.875</td>\n",
       "    </tr>\n",
       "    <tr>\n",
       "      <th>1981-12-31</th>\n",
       "      <td>281104.415</td>\n",
       "    </tr>\n",
       "    <tr>\n",
       "      <th>1982-12-31</th>\n",
       "      <td>290596.210</td>\n",
       "    </tr>\n",
       "    <tr>\n",
       "      <th>1983-12-31</th>\n",
       "      <td>299490.599</td>\n",
       "    </tr>\n",
       "    <tr>\n",
       "      <th>1984-12-31</th>\n",
       "      <td>312859.557</td>\n",
       "    </tr>\n",
       "    <tr>\n",
       "      <th>1985-12-31</th>\n",
       "      <td>332674.069</td>\n",
       "    </tr>\n",
       "    <tr>\n",
       "      <th>1986-12-31</th>\n",
       "      <td>342092.327</td>\n",
       "    </tr>\n",
       "    <tr>\n",
       "      <th>1987-12-31</th>\n",
       "      <td>356143.520</td>\n",
       "    </tr>\n",
       "    <tr>\n",
       "      <th>1988-12-31</th>\n",
       "      <td>381596.006</td>\n",
       "    </tr>\n",
       "    <tr>\n",
       "      <th>1989-12-31</th>\n",
       "      <td>402088.294</td>\n",
       "    </tr>\n",
       "  </tbody>\n",
       "</table>\n",
       "</div>"
      ],
      "text/plain": [
       "                GDP_JP\n",
       "Date                  \n",
       "1980-12-31  269833.875\n",
       "1981-12-31  281104.415\n",
       "1982-12-31  290596.210\n",
       "1983-12-31  299490.599\n",
       "1984-12-31  312859.557\n",
       "1985-12-31  332674.069\n",
       "1986-12-31  342092.327\n",
       "1987-12-31  356143.520\n",
       "1988-12-31  381596.006\n",
       "1989-12-31  402088.294"
      ]
     },
     "execution_count": 51,
     "metadata": {},
     "output_type": "execute_result"
    }
   ],
   "source": [
    "df_GDP_JP.head(10)"
   ]
  },
  {
   "cell_type": "code",
   "execution_count": 44,
   "metadata": {
    "collapsed": false
   },
   "outputs": [
    {
     "data": {
      "text/html": [
       "<div>\n",
       "<table border=\"1\" class=\"dataframe\">\n",
       "  <thead>\n",
       "    <tr style=\"text-align: right;\">\n",
       "      <th></th>\n",
       "      <th>GDP_US</th>\n",
       "    </tr>\n",
       "    <tr>\n",
       "      <th>DATE</th>\n",
       "      <th></th>\n",
       "    </tr>\n",
       "  </thead>\n",
       "  <tbody>\n",
       "    <tr>\n",
       "      <th>2015-01-01</th>\n",
       "      <td>17649.3</td>\n",
       "    </tr>\n",
       "    <tr>\n",
       "      <th>2015-04-01</th>\n",
       "      <td>17913.7</td>\n",
       "    </tr>\n",
       "    <tr>\n",
       "      <th>2015-07-01</th>\n",
       "      <td>18060.2</td>\n",
       "    </tr>\n",
       "    <tr>\n",
       "      <th>2015-10-01</th>\n",
       "      <td>18164.8</td>\n",
       "    </tr>\n",
       "    <tr>\n",
       "      <th>2016-01-01</th>\n",
       "      <td>18230.1</td>\n",
       "    </tr>\n",
       "  </tbody>\n",
       "</table>\n",
       "</div>"
      ],
      "text/plain": [
       "             GDP_US\n",
       "DATE               \n",
       "2015-01-01  17649.3\n",
       "2015-04-01  17913.7\n",
       "2015-07-01  18060.2\n",
       "2015-10-01  18164.8\n",
       "2016-01-01  18230.1"
      ]
     },
     "execution_count": 44,
     "metadata": {},
     "output_type": "execute_result"
    }
   ],
   "source": [
    "# 米国GDP\n",
    "df_GDP_US = ql.get('FRED/GDP')\n",
    "df_GDP_US.rename(columns={\"VALUE\":\"GDP_US\"},inplace=True)\n",
    "df_GDP_US.tail(5)"
   ]
  },
  {
   "cell_type": "code",
   "execution_count": 53,
   "metadata": {
    "collapsed": false
   },
   "outputs": [
    {
     "data": {
      "text/html": [
       "<div>\n",
       "<table border=\"1\" class=\"dataframe\">\n",
       "  <thead>\n",
       "    <tr style=\"text-align: right;\">\n",
       "      <th></th>\n",
       "      <th>Interest_JP</th>\n",
       "    </tr>\n",
       "    <tr>\n",
       "      <th>Date</th>\n",
       "      <th></th>\n",
       "    </tr>\n",
       "  </thead>\n",
       "  <tbody>\n",
       "    <tr>\n",
       "      <th>2016-06-21</th>\n",
       "      <td>-0.146</td>\n",
       "    </tr>\n",
       "    <tr>\n",
       "      <th>2016-06-22</th>\n",
       "      <td>-0.150</td>\n",
       "    </tr>\n",
       "    <tr>\n",
       "      <th>2016-06-23</th>\n",
       "      <td>-0.146</td>\n",
       "    </tr>\n",
       "    <tr>\n",
       "      <th>2016-06-24</th>\n",
       "      <td>-0.201</td>\n",
       "    </tr>\n",
       "    <tr>\n",
       "      <th>2016-06-27</th>\n",
       "      <td>-0.202</td>\n",
       "    </tr>\n",
       "    <tr>\n",
       "      <th>2016-06-28</th>\n",
       "      <td>-0.233</td>\n",
       "    </tr>\n",
       "    <tr>\n",
       "      <th>2016-06-29</th>\n",
       "      <td>-0.242</td>\n",
       "    </tr>\n",
       "    <tr>\n",
       "      <th>2016-06-30</th>\n",
       "      <td>-0.237</td>\n",
       "    </tr>\n",
       "    <tr>\n",
       "      <th>2016-07-01</th>\n",
       "      <td>-0.262</td>\n",
       "    </tr>\n",
       "    <tr>\n",
       "      <th>2016-07-04</th>\n",
       "      <td>-0.257</td>\n",
       "    </tr>\n",
       "  </tbody>\n",
       "</table>\n",
       "</div>"
      ],
      "text/plain": [
       "            Interest_JP\n",
       "Date                   \n",
       "2016-06-21       -0.146\n",
       "2016-06-22       -0.150\n",
       "2016-06-23       -0.146\n",
       "2016-06-24       -0.201\n",
       "2016-06-27       -0.202\n",
       "2016-06-28       -0.233\n",
       "2016-06-29       -0.242\n",
       "2016-06-30       -0.237\n",
       "2016-07-01       -0.262\n",
       "2016-07-04       -0.257"
      ]
     },
     "execution_count": 53,
     "metadata": {},
     "output_type": "execute_result"
    }
   ],
   "source": [
    "# 日本国債金利(10年)\n",
    "df_Interest_JP = ql.get('MOFJ/INTEREST_RATE_JAPAN_10Y')\n",
    "df_Interest_JP.rename(columns={\"Value\":\"Interest_JP\"},inplace=True)\n",
    "df_Interest_JP.tail(10)"
   ]
  },
  {
   "cell_type": "code",
   "execution_count": 46,
   "metadata": {
    "collapsed": false
   },
   "outputs": [
    {
     "data": {
      "text/html": [
       "<div>\n",
       "<table border=\"1\" class=\"dataframe\">\n",
       "  <thead>\n",
       "    <tr style=\"text-align: right;\">\n",
       "      <th></th>\n",
       "      <th>Interest_US</th>\n",
       "    </tr>\n",
       "    <tr>\n",
       "      <th>DATE</th>\n",
       "      <th></th>\n",
       "    </tr>\n",
       "  </thead>\n",
       "  <tbody>\n",
       "    <tr>\n",
       "      <th>2016-06-23</th>\n",
       "      <td>1.74</td>\n",
       "    </tr>\n",
       "    <tr>\n",
       "      <th>2016-06-24</th>\n",
       "      <td>1.57</td>\n",
       "    </tr>\n",
       "    <tr>\n",
       "      <th>2016-06-27</th>\n",
       "      <td>1.46</td>\n",
       "    </tr>\n",
       "    <tr>\n",
       "      <th>2016-06-28</th>\n",
       "      <td>1.46</td>\n",
       "    </tr>\n",
       "    <tr>\n",
       "      <th>2016-06-29</th>\n",
       "      <td>1.50</td>\n",
       "    </tr>\n",
       "  </tbody>\n",
       "</table>\n",
       "</div>"
      ],
      "text/plain": [
       "            Interest_US\n",
       "DATE                   \n",
       "2016-06-23         1.74\n",
       "2016-06-24         1.57\n",
       "2016-06-27         1.46\n",
       "2016-06-28         1.46\n",
       "2016-06-29         1.50"
      ]
     },
     "execution_count": 46,
     "metadata": {},
     "output_type": "execute_result"
    }
   ],
   "source": [
    "# 米国国債金利(10年)\n",
    "df_Interest_US = ql.get('FRED/DGS10')\n",
    "df_Interest_US.rename(columns={\"VALUE\":\"Interest_US\"},inplace=True)\n",
    "df_Interest_US.tail(5)"
   ]
  },
  {
   "cell_type": "code",
   "execution_count": 55,
   "metadata": {
    "collapsed": false
   },
   "outputs": [
    {
     "data": {
      "text/html": [
       "<div>\n",
       "<table border=\"1\" class=\"dataframe\">\n",
       "  <thead>\n",
       "    <tr style=\"text-align: right;\">\n",
       "      <th></th>\n",
       "      <th>NIKKEI</th>\n",
       "      <th>SP500</th>\n",
       "      <th>Interest_JP</th>\n",
       "      <th>Interest_US</th>\n",
       "      <th>USD/JPY</th>\n",
       "    </tr>\n",
       "  </thead>\n",
       "  <tbody>\n",
       "    <tr>\n",
       "      <th>2016-06-13</th>\n",
       "      <td>16019.18</td>\n",
       "      <td>2079.060059</td>\n",
       "      <td>-0.167</td>\n",
       "      <td>1.62</td>\n",
       "      <td>106.07</td>\n",
       "    </tr>\n",
       "    <tr>\n",
       "      <th>2016-06-14</th>\n",
       "      <td>15859.00</td>\n",
       "      <td>2075.320068</td>\n",
       "      <td>-0.172</td>\n",
       "      <td>1.62</td>\n",
       "      <td>106.02</td>\n",
       "    </tr>\n",
       "    <tr>\n",
       "      <th>2016-06-15</th>\n",
       "      <td>15919.58</td>\n",
       "      <td>2071.500000</td>\n",
       "      <td>-0.197</td>\n",
       "      <td>1.60</td>\n",
       "      <td>105.87</td>\n",
       "    </tr>\n",
       "    <tr>\n",
       "      <th>2016-06-16</th>\n",
       "      <td>15434.14</td>\n",
       "      <td>2077.989990</td>\n",
       "      <td>-0.208</td>\n",
       "      <td>1.57</td>\n",
       "      <td>104.05</td>\n",
       "    </tr>\n",
       "    <tr>\n",
       "      <th>2016-06-17</th>\n",
       "      <td>15599.66</td>\n",
       "      <td>2071.219971</td>\n",
       "      <td>-0.157</td>\n",
       "      <td>1.62</td>\n",
       "      <td>104.20</td>\n",
       "    </tr>\n",
       "    <tr>\n",
       "      <th>2016-06-20</th>\n",
       "      <td>15965.30</td>\n",
       "      <td>2083.250000</td>\n",
       "      <td>-0.151</td>\n",
       "      <td>1.67</td>\n",
       "      <td>104.32</td>\n",
       "    </tr>\n",
       "    <tr>\n",
       "      <th>2016-06-21</th>\n",
       "      <td>16169.11</td>\n",
       "      <td>2088.899902</td>\n",
       "      <td>-0.146</td>\n",
       "      <td>1.71</td>\n",
       "      <td>104.56</td>\n",
       "    </tr>\n",
       "    <tr>\n",
       "      <th>2016-06-22</th>\n",
       "      <td>16065.72</td>\n",
       "      <td>2085.449951</td>\n",
       "      <td>-0.150</td>\n",
       "      <td>1.69</td>\n",
       "      <td>104.56</td>\n",
       "    </tr>\n",
       "    <tr>\n",
       "      <th>2016-06-23</th>\n",
       "      <td>16238.35</td>\n",
       "      <td>2113.320068</td>\n",
       "      <td>-0.146</td>\n",
       "      <td>1.74</td>\n",
       "      <td>105.90</td>\n",
       "    </tr>\n",
       "    <tr>\n",
       "      <th>2016-06-24</th>\n",
       "      <td>14952.02</td>\n",
       "      <td>2037.300049</td>\n",
       "      <td>-0.201</td>\n",
       "      <td>1.57</td>\n",
       "      <td>102.26</td>\n",
       "    </tr>\n",
       "  </tbody>\n",
       "</table>\n",
       "</div>"
      ],
      "text/plain": [
       "              NIKKEI        SP500  Interest_JP  Interest_US  USD/JPY\n",
       "2016-06-13  16019.18  2079.060059       -0.167         1.62   106.07\n",
       "2016-06-14  15859.00  2075.320068       -0.172         1.62   106.02\n",
       "2016-06-15  15919.58  2071.500000       -0.197         1.60   105.87\n",
       "2016-06-16  15434.14  2077.989990       -0.208         1.57   104.05\n",
       "2016-06-17  15599.66  2071.219971       -0.157         1.62   104.20\n",
       "2016-06-20  15965.30  2083.250000       -0.151         1.67   104.32\n",
       "2016-06-21  16169.11  2088.899902       -0.146         1.71   104.56\n",
       "2016-06-22  16065.72  2085.449951       -0.150         1.69   104.56\n",
       "2016-06-23  16238.35  2113.320068       -0.146         1.74   105.90\n",
       "2016-06-24  14952.02  2037.300049       -0.201         1.57   102.26"
      ]
     },
     "execution_count": 55,
     "metadata": {},
     "output_type": "execute_result"
    }
   ],
   "source": [
    "# データをmerge\"\n",
    "#df_merge = pd.concat([df_STOCK, df_Interest_JP, df_Interest_US, df_GDP_JP, df_GDP_US, df_USD_JPY], axis=1,join=\"inner\")\n",
    "df_merge = pd.concat([df_STOCK, df_Interest_JP, df_Interest_US, df_USD_JPY], axis=1,join=\"inner\")\n",
    "df_merge.tail(10)"
   ]
  },
  {
   "cell_type": "code",
   "execution_count": 73,
   "metadata": {
    "collapsed": false
   },
   "outputs": [
    {
     "data": {
      "text/html": [
       "<div>\n",
       "<table border=\"1\" class=\"dataframe\">\n",
       "  <thead>\n",
       "    <tr style=\"text-align: right;\">\n",
       "      <th></th>\n",
       "      <th>NIKKEI</th>\n",
       "      <th>SP500</th>\n",
       "      <th>Interest_JP</th>\n",
       "      <th>Interest_US</th>\n",
       "      <th>USD/JPY</th>\n",
       "    </tr>\n",
       "  </thead>\n",
       "  <tbody>\n",
       "    <tr>\n",
       "      <th>2009-10-27</th>\n",
       "      <td>10212.46</td>\n",
       "      <td>1063.410034</td>\n",
       "      <td>1.406</td>\n",
       "      <td>3.49</td>\n",
       "      <td>92.04</td>\n",
       "    </tr>\n",
       "    <tr>\n",
       "      <th>1990-06-27</th>\n",
       "      <td>32312.75</td>\n",
       "      <td>355.140015</td>\n",
       "      <td>6.570</td>\n",
       "      <td>8.52</td>\n",
       "      <td>154.38</td>\n",
       "    </tr>\n",
       "    <tr>\n",
       "      <th>1994-04-12</th>\n",
       "      <td>19648.33</td>\n",
       "      <td>447.570007</td>\n",
       "      <td>4.252</td>\n",
       "      <td>6.87</td>\n",
       "      <td>103.62</td>\n",
       "    </tr>\n",
       "    <tr>\n",
       "      <th>2011-03-28</th>\n",
       "      <td>9478.53</td>\n",
       "      <td>1310.189941</td>\n",
       "      <td>1.241</td>\n",
       "      <td>3.47</td>\n",
       "      <td>81.67</td>\n",
       "    </tr>\n",
       "    <tr>\n",
       "      <th>1995-02-06</th>\n",
       "      <td>18667.23</td>\n",
       "      <td>481.140015</td>\n",
       "      <td>4.616</td>\n",
       "      <td>7.53</td>\n",
       "      <td>99.30</td>\n",
       "    </tr>\n",
       "  </tbody>\n",
       "</table>\n",
       "</div>"
      ],
      "text/plain": [
       "              NIKKEI        SP500  Interest_JP  Interest_US  USD/JPY\n",
       "2009-10-27  10212.46  1063.410034        1.406         3.49    92.04\n",
       "1990-06-27  32312.75   355.140015        6.570         8.52   154.38\n",
       "1994-04-12  19648.33   447.570007        4.252         6.87   103.62\n",
       "2011-03-28   9478.53  1310.189941        1.241         3.47    81.67\n",
       "1995-02-06  18667.23   481.140015        4.616         7.53    99.30"
      ]
     },
     "execution_count": 73,
     "metadata": {},
     "output_type": "execute_result"
    }
   ],
   "source": [
    "# データの並びをシャッフル\n",
    "calcData = df_merge.reindex(np.random.permutation(df_merge.index))\n",
    "calcData.head(5)"
   ]
  },
  {
   "cell_type": "code",
   "execution_count": 7,
   "metadata": {
    "collapsed": false
   },
   "outputs": [],
   "source": [
    "# 入力データと教師データに分割\n",
    "pd_y = calcData['out']\n",
    "pd_x = calcData.drop(['out'], axis=1)\n",
    "\n",
    "# numpy配列にデータフレームから変換\n",
    "x_array = pd_x.as_matrix()\n",
    "y_array = pd_y.as_matrix()"
   ]
  },
  {
   "cell_type": "code",
   "execution_count": 8,
   "metadata": {
    "collapsed": false
   },
   "outputs": [
    {
     "name": "stdout",
     "output_type": "stream",
     "text": [
      "学習データサンプル数： 550\n",
      "テストデータサンプル数： 99\n"
     ]
    }
   ],
   "source": [
    "# 正規化し,float32の型に変換\n",
    "x_scale = scale(x_array).astype(np.float32)\n",
    "y_scale = y_array.astype(np.int32)\n",
    "\n",
    "# サンプルの一部をテストデータ用に分割\n",
    "N = 550\n",
    "x_train, x_test = np.split(x_scale, [N])\n",
    "y_train, y_test = np.split(y_scale, [N])\n",
    "N_test = y_test.size\n",
    "\n",
    "print(u'学習データサンプル数：', N)\n",
    "print(u'テストデータサンプル数：', N_test)"
   ]
  },
  {
   "cell_type": "markdown",
   "metadata": {},
   "source": [
    "## Deep learningのモデル定義"
   ]
  },
  {
   "cell_type": "code",
   "execution_count": 9,
   "metadata": {
    "collapsed": true
   },
   "outputs": [],
   "source": [
    "# 4層NN\n",
    "class ClfyMNN(chainer.Chain):\n",
    "    def __init__(self, n_in, n_units, n_out, train=True):\n",
    "        super(ClfyMNN, self).__init__(\n",
    "            l1=L.Linear(n_in, n_units),\n",
    "            l2=L.Linear(n_units, n_units),\n",
    "            l3=L.Linear(n_units, n_units),\n",
    "            l4=L.Linear(n_units, n_out),\n",
    "        )\n",
    "        self.train = train\n",
    "    \n",
    "    # 全てReLUで実施\n",
    "    def __call__(self, x):\n",
    "        h1 = F.relu(self.l1(x))\n",
    "        h2 = F.relu(self.l2(h1))\n",
    "        h3 = F.relu(self.l3(h2))\n",
    "        y = self.l4(h3)\n",
    "        return y"
   ]
  },
  {
   "cell_type": "markdown",
   "metadata": {},
   "source": [
    "### バッチサイズや隠れ層のユニット数"
   ]
  },
  {
   "cell_type": "code",
   "execution_count": 10,
   "metadata": {
    "collapsed": true
   },
   "outputs": [],
   "source": [
    "batchsize = 100 # 学習時サンプルデータ分割バッチサイズ\n",
    "n_epoch = 20 # 学習ループ数\n",
    "n_units = 50 # 隠れ層のユニット数"
   ]
  },
  {
   "cell_type": "markdown",
   "metadata": {},
   "source": [
    "### 各種設定"
   ]
  },
  {
   "cell_type": "code",
   "execution_count": 11,
   "metadata": {
    "collapsed": true
   },
   "outputs": [],
   "source": [
    "n_in = 8 # 入力データの次元\n",
    "n_out = 3 # 分類だと分類数を定義\n",
    "\n",
    "model = L.Classifier(ClfyMNN(n_in, n_units, n_out))\n",
    "# cuda.get_device(0).use() # For GPU\n",
    "# model.to_gpu() # For GPU\n",
    "# xp = cuda.cupy # For GPU\n",
    "xp = np  # For CPU"
   ]
  },
  {
   "cell_type": "code",
   "execution_count": 12,
   "metadata": {
    "collapsed": true
   },
   "outputs": [],
   "source": [
    "# 最適化手法の指定\n",
    "optimizer = optimizers.Adam() # とりあえず無難なAdam\n",
    "optimizer.setup(model)"
   ]
  },
  {
   "cell_type": "markdown",
   "metadata": {},
   "source": [
    "## 学習の実施"
   ]
  },
  {
   "cell_type": "code",
   "execution_count": 13,
   "metadata": {
    "collapsed": false
   },
   "outputs": [
    {
     "name": "stdout",
     "output_type": "stream",
     "text": [
      "epoch 5\n",
      "train mean loss=1.059808991172097, accuracy=0.42363636602054944\n",
      "test mean loss=1.1437941789627075, accuracy=0.2929292917251587\n",
      "epoch 10\n",
      "train mean loss=1.0227636640722102, accuracy=0.4927272688258778\n",
      "test mean loss=1.1501272916793823, accuracy=0.3737373650074005\n",
      "epoch 15\n",
      "train mean loss=0.9904924793676897, accuracy=0.5363636396147988\n",
      "test mean loss=1.1627455949783325, accuracy=0.3030303120613098\n",
      "epoch 20\n",
      "train mean loss=0.9545178034088828, accuracy=0.5690909136425365\n",
      "test mean loss=1.1674188375473022, accuracy=0.3636363744735718\n"
     ]
    }
   ],
   "source": [
    "out_train_accuracy = []\n",
    "out_test_accuracy = []\n",
    "out_train_loss = []\n",
    "out_test_loss = []\n",
    "\n",
    "print_epoch = 5 # 途中経過出力タイミング\n",
    "\n",
    "# Learning loop\n",
    "for epoch in six.moves.range(1, n_epoch + 1):\n",
    "    if epoch % print_epoch == 0:\n",
    "        print('epoch', epoch)\n",
    "        \n",
    "    # training step\n",
    "    perm = np.random.permutation(N)\n",
    "    sum_accuracy = 0\n",
    "    sum_loss = 0\n",
    "\n",
    "    for i in six.moves.range(0, N, batchsize):\n",
    "        x = chainer.Variable(xp.asarray(x_train[perm[i:i + batchsize]]))\n",
    "        t = chainer.Variable(xp.asarray(y_train[perm[i:i + batchsize]]))\n",
    "        \n",
    "        # Pass loss function\n",
    "        optimizer.update(model, x, t)\n",
    "        \n",
    "        # モデルのグラフ出力(要GraphViz)\n",
    "        #if epoch == 1 and i == 0:\n",
    "        #    with open('graph.dot', 'w') as o:\n",
    "        #        g = computational_graph.build_computational_graph(\n",
    "        #            (model.loss, ))\n",
    "        #        o.write(g.dump())\n",
    "        #    print('graph generated')\n",
    "        \n",
    "        sum_loss += float(model.loss.data) * len(t.data)\n",
    "        sum_accuracy += float(model.accuracy.data) * len(t.data)\n",
    "    \n",
    "    out_train_accuracy.append(sum_accuracy / N)\n",
    "    out_train_loss.append(sum_loss / N)\n",
    "    if epoch % print_epoch == 0:\n",
    "        print('train mean loss={}, accuracy={}'.format(\n",
    "            sum_loss / N, sum_accuracy / N))\n",
    "    \n",
    "    # Evaluation step\n",
    "    sum_accuracy = 0\n",
    "    sum_loss = 0\n",
    "    for i in six.moves.range(0, N_test, batchsize):\n",
    "        x = chainer.Variable(xp.asarray(x_test[i:i + batchsize]),\n",
    "                            volatile='on') # パラメータの更新をさせないようにvolatile='on'に\n",
    "        t = chainer.Variable(xp.asarray(y_test[i:i + batchsize]),\n",
    "                            volatile='on')\n",
    "        loss = model(x, t)\n",
    "        sum_loss += float(loss.data) * len(t.data)\n",
    "        sum_accuracy += float(model.accuracy.data) * len(t.data)\n",
    "        \n",
    "    out_test_accuracy.append(sum_accuracy / N_test)\n",
    "    out_test_loss.append(sum_loss / N_test)\n",
    "    if epoch % print_epoch == 0:\n",
    "        print('test mean loss={}, accuracy={}'.format(\n",
    "            sum_loss / N_test, sum_accuracy / N_test))"
   ]
  },
  {
   "cell_type": "markdown",
   "metadata": {},
   "source": [
    "## 学習の結果\n",
    "\n",
    "epochの進捗とそれに合わせた的中率をプロット.\n",
    "\n",
    "過学習になっていないかtestデータの的中率を見た方が良い."
   ]
  },
  {
   "cell_type": "code",
   "execution_count": 14,
   "metadata": {
    "collapsed": false
   },
   "outputs": [
    {
     "name": "stderr",
     "output_type": "stream",
     "text": [
      "/Users/YoshinoKazuyoshi/.pyenv/versions/anaconda3-4.0.0/lib/python3.5/site-packages/matplotlib/font_manager.py:273: UserWarning: Matplotlib is building the font cache using fc-list. This may take a moment.\n",
      "  warnings.warn('Matplotlib is building the font cache using fc-list. This may take a moment.')\n",
      "/Users/YoshinoKazuyoshi/.pyenv/versions/anaconda3-4.0.0/lib/python3.5/site-packages/matplotlib/font_manager.py:273: UserWarning: Matplotlib is building the font cache using fc-list. This may take a moment.\n",
      "  warnings.warn('Matplotlib is building the font cache using fc-list. This may take a moment.')\n"
     ]
    },
    {
     "data": {
      "image/png": "[encoded data removed]",
      "text/plain": [
       "<matplotlib.figure.Figure at 0x114fae1d0>"
      ]
     },
     "metadata": {},
     "output_type": "display_data"
    }
   ],
   "source": [
    "plt.style.use('ggplot') # ggplot風出力\n",
    "\n",
    "plt.plot(out_test_accuracy, label='test_data')\n",
    "plt.plot(out_train_accuracy, label='train_data')\n",
    "\n",
    "plt.xlabel('epoch')\n",
    "plt.ylabel('accuracy')\n",
    "plt.legend(loc = 5) # 凡例の場所指定\n",
    "\n",
    "plt.show()"
   ]
  },
  {
   "cell_type": "markdown",
   "metadata": {
    "collapsed": true
   },
   "source": [
    "## モデルの予測値について"
   ]
  },
  {
   "cell_type": "code",
   "execution_count": 15,
   "metadata": {
    "collapsed": false
   },
   "outputs": [],
   "source": [
    "# 学習されたパラメータへもう一度テストデータを通す(ここはもっといいやり方ありそう)\n",
    "out_h1 = F.relu(model.predictor.l1(chainer.Variable(xp.asarray(x_test))))\n",
    "out_h2 = F.relu(model.predictor.l2(out_h1))\n",
    "out_h3 = F.relu(model.predictor.l3(out_h2))\n",
    "estimate_y = model.predictor.l4(out_h3)"
   ]
  },
  {
   "cell_type": "code",
   "execution_count": 16,
   "metadata": {
    "collapsed": false
   },
   "outputs": [
    {
     "data": {
      "text/html": [
       "<div>\n",
       "<table border=\"1\" class=\"dataframe\">\n",
       "  <thead>\n",
       "    <tr style=\"text-align: right;\">\n",
       "      <th></th>\n",
       "      <th>est</th>\n",
       "    </tr>\n",
       "  </thead>\n",
       "  <tbody>\n",
       "    <tr>\n",
       "      <th>0</th>\n",
       "      <td>0</td>\n",
       "    </tr>\n",
       "    <tr>\n",
       "      <th>1</th>\n",
       "      <td>2</td>\n",
       "    </tr>\n",
       "    <tr>\n",
       "      <th>2</th>\n",
       "      <td>1</td>\n",
       "    </tr>\n",
       "    <tr>\n",
       "      <th>3</th>\n",
       "      <td>1</td>\n",
       "    </tr>\n",
       "    <tr>\n",
       "      <th>4</th>\n",
       "      <td>0</td>\n",
       "    </tr>\n",
       "  </tbody>\n",
       "</table>\n",
       "</div>"
      ],
      "text/plain": [
       "   est\n",
       "0    0\n",
       "1    2\n",
       "2    1\n",
       "3    1\n",
       "4    0"
      ]
     },
     "execution_count": 16,
     "metadata": {},
     "output_type": "execute_result"
    }
   ],
   "source": [
    "#t = cuda.to_cpu(estimate_y.data) # For GPU\n",
    "t = estimate_y.data # arrayとしてデータを取り出す\n",
    "\n",
    "# 一番大きいargmentを推定値とする\n",
    "est = []\n",
    "for idx in range(N_test):\n",
    "    est.append(np.argmax(t[idx,:]))\n",
    "pd_est = pd.DataFrame(est)\n",
    "pd_est.columns = ['est']\n",
    "pd_est.head(5)"
   ]
  },
  {
   "cell_type": "code",
   "execution_count": 17,
   "metadata": {
    "collapsed": false
   },
   "outputs": [
    {
     "data": {
      "text/html": [
       "<div>\n",
       "<table border=\"1\" class=\"dataframe\">\n",
       "  <thead>\n",
       "    <tr style=\"text-align: right;\">\n",
       "      <th></th>\n",
       "      <th>est</th>\n",
       "      <th>out</th>\n",
       "      <th>compare</th>\n",
       "    </tr>\n",
       "  </thead>\n",
       "  <tbody>\n",
       "    <tr>\n",
       "      <th>0</th>\n",
       "      <td>0.0</td>\n",
       "      <td>2</td>\n",
       "      <td>0</td>\n",
       "    </tr>\n",
       "    <tr>\n",
       "      <th>1</th>\n",
       "      <td>2.0</td>\n",
       "      <td>2</td>\n",
       "      <td>1</td>\n",
       "    </tr>\n",
       "    <tr>\n",
       "      <th>2</th>\n",
       "      <td>1.0</td>\n",
       "      <td>1</td>\n",
       "      <td>1</td>\n",
       "    </tr>\n",
       "    <tr>\n",
       "      <th>3</th>\n",
       "      <td>1.0</td>\n",
       "      <td>1</td>\n",
       "      <td>1</td>\n",
       "    </tr>\n",
       "    <tr>\n",
       "      <th>4</th>\n",
       "      <td>0.0</td>\n",
       "      <td>0</td>\n",
       "      <td>1</td>\n",
       "    </tr>\n",
       "    <tr>\n",
       "      <th>5</th>\n",
       "      <td>2.0</td>\n",
       "      <td>1</td>\n",
       "      <td>0</td>\n",
       "    </tr>\n",
       "    <tr>\n",
       "      <th>6</th>\n",
       "      <td>0.0</td>\n",
       "      <td>2</td>\n",
       "      <td>0</td>\n",
       "    </tr>\n",
       "    <tr>\n",
       "      <th>7</th>\n",
       "      <td>0.0</td>\n",
       "      <td>0</td>\n",
       "      <td>1</td>\n",
       "    </tr>\n",
       "    <tr>\n",
       "      <th>8</th>\n",
       "      <td>1.0</td>\n",
       "      <td>1</td>\n",
       "      <td>1</td>\n",
       "    </tr>\n",
       "    <tr>\n",
       "      <th>9</th>\n",
       "      <td>1.0</td>\n",
       "      <td>0</td>\n",
       "      <td>0</td>\n",
       "    </tr>\n",
       "    <tr>\n",
       "      <th>10</th>\n",
       "      <td>2.0</td>\n",
       "      <td>1</td>\n",
       "      <td>0</td>\n",
       "    </tr>\n",
       "    <tr>\n",
       "      <th>11</th>\n",
       "      <td>0.0</td>\n",
       "      <td>2</td>\n",
       "      <td>0</td>\n",
       "    </tr>\n",
       "    <tr>\n",
       "      <th>12</th>\n",
       "      <td>1.0</td>\n",
       "      <td>0</td>\n",
       "      <td>0</td>\n",
       "    </tr>\n",
       "    <tr>\n",
       "      <th>13</th>\n",
       "      <td>1.0</td>\n",
       "      <td>2</td>\n",
       "      <td>0</td>\n",
       "    </tr>\n",
       "    <tr>\n",
       "      <th>14</th>\n",
       "      <td>0.0</td>\n",
       "      <td>1</td>\n",
       "      <td>0</td>\n",
       "    </tr>\n",
       "    <tr>\n",
       "      <th>15</th>\n",
       "      <td>0.0</td>\n",
       "      <td>0</td>\n",
       "      <td>1</td>\n",
       "    </tr>\n",
       "    <tr>\n",
       "      <th>16</th>\n",
       "      <td>2.0</td>\n",
       "      <td>2</td>\n",
       "      <td>1</td>\n",
       "    </tr>\n",
       "    <tr>\n",
       "      <th>17</th>\n",
       "      <td>2.0</td>\n",
       "      <td>2</td>\n",
       "      <td>1</td>\n",
       "    </tr>\n",
       "    <tr>\n",
       "      <th>18</th>\n",
       "      <td>0.0</td>\n",
       "      <td>2</td>\n",
       "      <td>0</td>\n",
       "    </tr>\n",
       "    <tr>\n",
       "      <th>19</th>\n",
       "      <td>0.0</td>\n",
       "      <td>1</td>\n",
       "      <td>0</td>\n",
       "    </tr>\n",
       "  </tbody>\n",
       "</table>\n",
       "</div>"
      ],
      "text/plain": [
       "    est  out  compare\n",
       "0   0.0    2        0\n",
       "1   2.0    2        1\n",
       "2   1.0    1        1\n",
       "3   1.0    1        1\n",
       "4   0.0    0        1\n",
       "5   2.0    1        0\n",
       "6   0.0    2        0\n",
       "7   0.0    0        1\n",
       "8   1.0    1        1\n",
       "9   1.0    0        0\n",
       "10  2.0    1        0\n",
       "11  0.0    2        0\n",
       "12  1.0    0        0\n",
       "13  1.0    2        0\n",
       "14  0.0    1        0\n",
       "15  0.0    0        1\n",
       "16  2.0    2        1\n",
       "17  2.0    2        1\n",
       "18  0.0    2        0\n",
       "19  0.0    1        0"
      ]
     },
     "execution_count": 17,
     "metadata": {},
     "output_type": "execute_result"
    }
   ],
   "source": [
    "# 元々のデータをくっつけてみる\n",
    "pd_ans = pd_y.reset_index(drop=True) # シャッフルしてるのでindex振り直しておく\n",
    "pd_ans.columns = ['ans']\n",
    "\n",
    "pd_compare = pd.concat([pd_est, pd_ans], axis=1)\n",
    "pd_compare['compare'] = np.where(pd_compare['est'] == pd_compare['out'], 1, 0) # 当たってたら1、外れてたら0\n",
    "pd_compare.head(20)"
   ]
  },
  {
   "cell_type": "code",
   "execution_count": 18,
   "metadata": {
    "collapsed": false
   },
   "outputs": [
    {
     "name": "stdout",
     "output_type": "stream",
     "text": [
      "的中率：34.343434343434346 %\n"
     ]
    }
   ],
   "source": [
    "N_match = pd_compare['compare'].sum(axis=0)\n",
    "Per_match = 100 * N_match / N_test\n",
    "print(u'的中率：{} %'.format(Per_match))"
   ]
  },
  {
   "cell_type": "code",
   "execution_count": null,
   "metadata": {
    "collapsed": true
   },
   "outputs": [],
   "source": []
  }
 ],
 "metadata": {
  "kernelspec": {
   "display_name": "Python 3",
   "language": "python",
   "name": "python3"
  },
  "language_info": {
   "codemirror_mode": {
    "name": "ipython",
    "version": 3
   },
   "file_extension": ".py",
   "mimetype": "text/x-python",
   "name": "python",
   "nbconvert_exporter": "python",
   "pygments_lexer": "ipython3",
   "version": "3.5.1"
  }
 },
 "nbformat": 4,
 "nbformat_minor": 0
}
