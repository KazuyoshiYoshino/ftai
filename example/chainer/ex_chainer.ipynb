{
 "cells": [
  {
   "cell_type": "markdown",
   "metadata": {},
   "source": [
    "# Chainer基本例\n",
    "\n",
    "以下ではChainerのベースとなるコードを置いておく.\n",
    "\n",
    "以下では下記のパッケージを使用する.\n",
    "使い方は適宜調べること.\n",
    "\n",
    "* Numpy\n",
    " * 行列演算処理用パッケージ\n",
    "* Pandas\n",
    " * データフレーム・データ処理用パッケージ\n",
    "* Matplotlib\n",
    " * グラフ描画用パッケージ \n",
    "* Scikit-learn\n",
    " * 機械学習用パッケージ(正規化に使用)\n",
    "* Chainer\n",
    " * 深層学習用パッケージ"
   ]
  },
  {
   "cell_type": "code",
   "execution_count": 1,
   "metadata": {
    "collapsed": false
   },
   "outputs": [],
   "source": [
    "import numpy as np\n",
    "import pandas as pd\n",
    "import six\n",
    "\n",
    "import chainer\n",
    "# from chainer import computational_graph  # need GraphViz\n",
    "# from chainer import cuda  # For GPU\n",
    "import chainer.links as L\n",
    "import chainer.functions as F\n",
    "from chainer import optimizers\n",
    "from chainer import serializers\n"
   ]
  },
  {
   "cell_type": "code",
   "execution_count": 2,
   "metadata": {
    "collapsed": false
   },
   "outputs": [
    {
     "name": "stderr",
     "output_type": "stream",
     "text": [
      "/Users/kohno/.pyenv/versions/anaconda3-2.4.0/lib/python3.5/site-packages/sklearn/utils/fixes.py:64: DeprecationWarning: inspect.getargspec() is deprecated, use inspect.signature() instead\n",
      "  if 'order' in inspect.getargspec(np.copy)[0]:\n"
     ]
    }
   ],
   "source": [
    "from sklearn.preprocessing import scale\n",
    "import matplotlib.pyplot as plt\n",
    "%matplotlib inline\n",
    "\n",
    "# なんかDeprecationWarning出るかもだけど無視で良いようだ"
   ]
  },
  {
   "cell_type": "markdown",
   "metadata": {},
   "source": [
    "## 使用データ\n",
    "\n",
    "何かしらデータを用意する.\n",
    "\n",
    "時系列を考慮しない場合など、データ順をシャッフル等したのちに、\n",
    "教師データとテストデータに分割する必要がある.\n",
    "\n",
    "ここではダミーデータとして乱数を置いた8変数と0,1,2を順番に教師データとして貼り付けたものを置く."
   ]
  },
  {
   "cell_type": "code",
   "execution_count": 3,
   "metadata": {
    "collapsed": false
   },
   "outputs": [
    {
     "data": {
      "text/html": [
       "<div>\n",
       "<table border=\"1\" class=\"dataframe\">\n",
       "  <thead>\n",
       "    <tr style=\"text-align: right;\">\n",
       "      <th></th>\n",
       "      <th>in0</th>\n",
       "      <th>in1</th>\n",
       "      <th>in2</th>\n",
       "      <th>in3</th>\n",
       "      <th>in4</th>\n",
       "      <th>in5</th>\n",
       "      <th>in6</th>\n",
       "      <th>in7</th>\n",
       "      <th>out</th>\n",
       "    </tr>\n",
       "  </thead>\n",
       "  <tbody>\n",
       "    <tr>\n",
       "      <th>0</th>\n",
       "      <td>0.790158</td>\n",
       "      <td>0.154701</td>\n",
       "      <td>0.554273</td>\n",
       "      <td>0.589591</td>\n",
       "      <td>0.652273</td>\n",
       "      <td>0.809005</td>\n",
       "      <td>0.727239</td>\n",
       "      <td>0.722377</td>\n",
       "      <td>0</td>\n",
       "    </tr>\n",
       "    <tr>\n",
       "      <th>1</th>\n",
       "      <td>0.966113</td>\n",
       "      <td>0.082956</td>\n",
       "      <td>0.427091</td>\n",
       "      <td>0.313592</td>\n",
       "      <td>0.036717</td>\n",
       "      <td>0.688759</td>\n",
       "      <td>0.747233</td>\n",
       "      <td>0.084873</td>\n",
       "      <td>1</td>\n",
       "    </tr>\n",
       "    <tr>\n",
       "      <th>2</th>\n",
       "      <td>0.744551</td>\n",
       "      <td>0.080415</td>\n",
       "      <td>0.534023</td>\n",
       "      <td>0.874443</td>\n",
       "      <td>0.058886</td>\n",
       "      <td>0.941214</td>\n",
       "      <td>0.234062</td>\n",
       "      <td>0.138623</td>\n",
       "      <td>2</td>\n",
       "    </tr>\n",
       "    <tr>\n",
       "      <th>3</th>\n",
       "      <td>0.386799</td>\n",
       "      <td>0.339775</td>\n",
       "      <td>0.758028</td>\n",
       "      <td>0.176749</td>\n",
       "      <td>0.545578</td>\n",
       "      <td>0.645455</td>\n",
       "      <td>0.264393</td>\n",
       "      <td>0.762566</td>\n",
       "      <td>0</td>\n",
       "    </tr>\n",
       "    <tr>\n",
       "      <th>4</th>\n",
       "      <td>0.000760</td>\n",
       "      <td>0.339114</td>\n",
       "      <td>0.865157</td>\n",
       "      <td>0.730987</td>\n",
       "      <td>0.061821</td>\n",
       "      <td>0.209777</td>\n",
       "      <td>0.090273</td>\n",
       "      <td>0.183841</td>\n",
       "      <td>1</td>\n",
       "    </tr>\n",
       "    <tr>\n",
       "      <th>5</th>\n",
       "      <td>0.497581</td>\n",
       "      <td>0.680770</td>\n",
       "      <td>0.914901</td>\n",
       "      <td>0.990791</td>\n",
       "      <td>0.040909</td>\n",
       "      <td>0.355208</td>\n",
       "      <td>0.881591</td>\n",
       "      <td>0.513112</td>\n",
       "      <td>2</td>\n",
       "    </tr>\n",
       "    <tr>\n",
       "      <th>6</th>\n",
       "      <td>0.531146</td>\n",
       "      <td>0.372347</td>\n",
       "      <td>0.246750</td>\n",
       "      <td>0.270516</td>\n",
       "      <td>0.120391</td>\n",
       "      <td>0.682658</td>\n",
       "      <td>0.272929</td>\n",
       "      <td>0.861646</td>\n",
       "      <td>0</td>\n",
       "    </tr>\n",
       "    <tr>\n",
       "      <th>7</th>\n",
       "      <td>0.475195</td>\n",
       "      <td>0.512204</td>\n",
       "      <td>0.533743</td>\n",
       "      <td>0.152647</td>\n",
       "      <td>0.070142</td>\n",
       "      <td>0.915401</td>\n",
       "      <td>0.297802</td>\n",
       "      <td>0.617966</td>\n",
       "      <td>1</td>\n",
       "    </tr>\n",
       "    <tr>\n",
       "      <th>8</th>\n",
       "      <td>0.841105</td>\n",
       "      <td>0.780319</td>\n",
       "      <td>0.212918</td>\n",
       "      <td>0.535849</td>\n",
       "      <td>0.639757</td>\n",
       "      <td>0.296344</td>\n",
       "      <td>0.653013</td>\n",
       "      <td>0.106019</td>\n",
       "      <td>2</td>\n",
       "    </tr>\n",
       "    <tr>\n",
       "      <th>9</th>\n",
       "      <td>0.221653</td>\n",
       "      <td>0.749487</td>\n",
       "      <td>0.411809</td>\n",
       "      <td>0.103275</td>\n",
       "      <td>0.610809</td>\n",
       "      <td>0.310699</td>\n",
       "      <td>0.501801</td>\n",
       "      <td>0.186794</td>\n",
       "      <td>0</td>\n",
       "    </tr>\n",
       "  </tbody>\n",
       "</table>\n",
       "</div>"
      ],
      "text/plain": [
       "        in0       in1       in2       in3       in4       in5       in6  \\\n",
       "0  0.790158  0.154701  0.554273  0.589591  0.652273  0.809005  0.727239   \n",
       "1  0.966113  0.082956  0.427091  0.313592  0.036717  0.688759  0.747233   \n",
       "2  0.744551  0.080415  0.534023  0.874443  0.058886  0.941214  0.234062   \n",
       "3  0.386799  0.339775  0.758028  0.176749  0.545578  0.645455  0.264393   \n",
       "4  0.000760  0.339114  0.865157  0.730987  0.061821  0.209777  0.090273   \n",
       "5  0.497581  0.680770  0.914901  0.990791  0.040909  0.355208  0.881591   \n",
       "6  0.531146  0.372347  0.246750  0.270516  0.120391  0.682658  0.272929   \n",
       "7  0.475195  0.512204  0.533743  0.152647  0.070142  0.915401  0.297802   \n",
       "8  0.841105  0.780319  0.212918  0.535849  0.639757  0.296344  0.653013   \n",
       "9  0.221653  0.749487  0.411809  0.103275  0.610809  0.310699  0.501801   \n",
       "\n",
       "        in7  out  \n",
       "0  0.722377    0  \n",
       "1  0.084873    1  \n",
       "2  0.138623    2  \n",
       "3  0.762566    0  \n",
       "4  0.183841    1  \n",
       "5  0.513112    2  \n",
       "6  0.861646    0  \n",
       "7  0.617966    1  \n",
       "8  0.106019    2  \n",
       "9  0.186794    0  "
      ]
     },
     "execution_count": 3,
     "metadata": {},
     "output_type": "execute_result"
    }
   ],
   "source": [
    "inputCSV = pd.read_csv('sample.csv')\n",
    "inputCSV.head(10)"
   ]
  },
  {
   "cell_type": "code",
   "execution_count": 4,
   "metadata": {
    "collapsed": false
   },
   "outputs": [
    {
     "data": {
      "text/html": [
       "<div>\n",
       "<table border=\"1\" class=\"dataframe\">\n",
       "  <thead>\n",
       "    <tr style=\"text-align: right;\">\n",
       "      <th></th>\n",
       "      <th>in0</th>\n",
       "      <th>in1</th>\n",
       "      <th>in2</th>\n",
       "      <th>in3</th>\n",
       "      <th>in4</th>\n",
       "      <th>in5</th>\n",
       "      <th>in6</th>\n",
       "      <th>in7</th>\n",
       "      <th>out</th>\n",
       "    </tr>\n",
       "  </thead>\n",
       "  <tbody>\n",
       "    <tr>\n",
       "      <th>550</th>\n",
       "      <td>0.215933</td>\n",
       "      <td>0.385255</td>\n",
       "      <td>0.033255</td>\n",
       "      <td>0.022961</td>\n",
       "      <td>0.252133</td>\n",
       "      <td>0.563793</td>\n",
       "      <td>0.236852</td>\n",
       "      <td>0.747881</td>\n",
       "      <td>1</td>\n",
       "    </tr>\n",
       "    <tr>\n",
       "      <th>311</th>\n",
       "      <td>0.321833</td>\n",
       "      <td>0.204799</td>\n",
       "      <td>0.158407</td>\n",
       "      <td>0.740717</td>\n",
       "      <td>0.984863</td>\n",
       "      <td>0.071780</td>\n",
       "      <td>0.261241</td>\n",
       "      <td>0.545532</td>\n",
       "      <td>2</td>\n",
       "    </tr>\n",
       "    <tr>\n",
       "      <th>538</th>\n",
       "      <td>0.066149</td>\n",
       "      <td>0.461709</td>\n",
       "      <td>0.174741</td>\n",
       "      <td>0.389820</td>\n",
       "      <td>0.139790</td>\n",
       "      <td>0.027322</td>\n",
       "      <td>0.109318</td>\n",
       "      <td>0.099765</td>\n",
       "      <td>1</td>\n",
       "    </tr>\n",
       "    <tr>\n",
       "      <th>646</th>\n",
       "      <td>0.308434</td>\n",
       "      <td>0.922860</td>\n",
       "      <td>0.828672</td>\n",
       "      <td>0.194588</td>\n",
       "      <td>0.367103</td>\n",
       "      <td>0.241161</td>\n",
       "      <td>0.052246</td>\n",
       "      <td>0.652358</td>\n",
       "      <td>1</td>\n",
       "    </tr>\n",
       "    <tr>\n",
       "      <th>201</th>\n",
       "      <td>0.920290</td>\n",
       "      <td>0.109495</td>\n",
       "      <td>0.432154</td>\n",
       "      <td>0.865345</td>\n",
       "      <td>0.268029</td>\n",
       "      <td>0.095433</td>\n",
       "      <td>0.687561</td>\n",
       "      <td>0.653502</td>\n",
       "      <td>0</td>\n",
       "    </tr>\n",
       "    <tr>\n",
       "      <th>228</th>\n",
       "      <td>0.268974</td>\n",
       "      <td>0.875602</td>\n",
       "      <td>0.160593</td>\n",
       "      <td>0.535618</td>\n",
       "      <td>0.622466</td>\n",
       "      <td>0.665704</td>\n",
       "      <td>0.248441</td>\n",
       "      <td>0.221968</td>\n",
       "      <td>0</td>\n",
       "    </tr>\n",
       "    <tr>\n",
       "      <th>639</th>\n",
       "      <td>0.060529</td>\n",
       "      <td>0.598614</td>\n",
       "      <td>0.560131</td>\n",
       "      <td>0.971657</td>\n",
       "      <td>0.479462</td>\n",
       "      <td>0.178229</td>\n",
       "      <td>0.922058</td>\n",
       "      <td>0.789299</td>\n",
       "      <td>0</td>\n",
       "    </tr>\n",
       "    <tr>\n",
       "      <th>277</th>\n",
       "      <td>0.742387</td>\n",
       "      <td>0.468711</td>\n",
       "      <td>0.939128</td>\n",
       "      <td>0.340425</td>\n",
       "      <td>0.105803</td>\n",
       "      <td>0.398152</td>\n",
       "      <td>0.605936</td>\n",
       "      <td>0.373394</td>\n",
       "      <td>1</td>\n",
       "    </tr>\n",
       "    <tr>\n",
       "      <th>144</th>\n",
       "      <td>0.695112</td>\n",
       "      <td>0.491648</td>\n",
       "      <td>0.203304</td>\n",
       "      <td>0.717855</td>\n",
       "      <td>0.271292</td>\n",
       "      <td>0.898818</td>\n",
       "      <td>0.835141</td>\n",
       "      <td>0.917030</td>\n",
       "      <td>0</td>\n",
       "    </tr>\n",
       "    <tr>\n",
       "      <th>645</th>\n",
       "      <td>0.182982</td>\n",
       "      <td>0.993137</td>\n",
       "      <td>0.507752</td>\n",
       "      <td>0.278938</td>\n",
       "      <td>0.598305</td>\n",
       "      <td>0.574202</td>\n",
       "      <td>0.458036</td>\n",
       "      <td>0.838757</td>\n",
       "      <td>0</td>\n",
       "    </tr>\n",
       "  </tbody>\n",
       "</table>\n",
       "</div>"
      ],
      "text/plain": [
       "          in0       in1       in2       in3       in4       in5       in6  \\\n",
       "550  0.215933  0.385255  0.033255  0.022961  0.252133  0.563793  0.236852   \n",
       "311  0.321833  0.204799  0.158407  0.740717  0.984863  0.071780  0.261241   \n",
       "538  0.066149  0.461709  0.174741  0.389820  0.139790  0.027322  0.109318   \n",
       "646  0.308434  0.922860  0.828672  0.194588  0.367103  0.241161  0.052246   \n",
       "201  0.920290  0.109495  0.432154  0.865345  0.268029  0.095433  0.687561   \n",
       "228  0.268974  0.875602  0.160593  0.535618  0.622466  0.665704  0.248441   \n",
       "639  0.060529  0.598614  0.560131  0.971657  0.479462  0.178229  0.922058   \n",
       "277  0.742387  0.468711  0.939128  0.340425  0.105803  0.398152  0.605936   \n",
       "144  0.695112  0.491648  0.203304  0.717855  0.271292  0.898818  0.835141   \n",
       "645  0.182982  0.993137  0.507752  0.278938  0.598305  0.574202  0.458036   \n",
       "\n",
       "          in7  out  \n",
       "550  0.747881    1  \n",
       "311  0.545532    2  \n",
       "538  0.099765    1  \n",
       "646  0.652358    1  \n",
       "201  0.653502    0  \n",
       "228  0.221968    0  \n",
       "639  0.789299    0  \n",
       "277  0.373394    1  \n",
       "144  0.917030    0  \n",
       "645  0.838757    0  "
      ]
     },
     "execution_count": 4,
     "metadata": {},
     "output_type": "execute_result"
    }
   ],
   "source": [
    "# データの並びをシャッフル\n",
    "calcData = inputCSV.reindex(np.random.permutation(inputCSV.index))\n",
    "calcData.head(10)"
   ]
  },
  {
   "cell_type": "code",
   "execution_count": 5,
   "metadata": {
    "collapsed": false
   },
   "outputs": [],
   "source": [
    "# 入力データと教師データに分割\n",
    "pd_y = calcData['out']\n",
    "pd_x = calcData.drop(['out'], axis=1)\n",
    "\n",
    "# numpy配列にデータフレームから変換\n",
    "x_array = pd_x.as_matrix()\n",
    "y_array = pd_y.as_matrix()"
   ]
  },
  {
   "cell_type": "code",
   "execution_count": 6,
   "metadata": {
    "collapsed": false
   },
   "outputs": [
    {
     "name": "stdout",
     "output_type": "stream",
     "text": [
      "学習データサンプル数： 550\n",
      "テストデータサンプル数： 99\n"
     ]
    }
   ],
   "source": [
    "# 正規化し,float32の型に変換\n",
    "x_scale = scale(x_array).astype(np.float32)\n",
    "y_scale = y_array.astype(np.int32)\n",
    "\n",
    "# サンプルの一部をテストデータ用に分割\n",
    "N = 550\n",
    "x_train, x_test = np.split(x_scale, [N])\n",
    "y_train, y_test = np.split(y_scale, [N])\n",
    "N_test = y_test.size\n",
    "\n",
    "print(u'学習データサンプル数：', N)\n",
    "print(u'テストデータサンプル数：', N_test)"
   ]
  },
  {
   "cell_type": "markdown",
   "metadata": {},
   "source": [
    "## Deep learningのモデル定義\n",
    "\n",
    "以下では暫定的に多層ニューラルネットである4層NNを用いる.\n",
    "\n",
    "(ここが基本的に変更する場所である.)\n",
    "\n",
    "なお、活性化関数にReLUを用いる."
   ]
  },
  {
   "cell_type": "code",
   "execution_count": 7,
   "metadata": {
    "collapsed": true
   },
   "outputs": [],
   "source": [
    "# 4層NN\n",
    "class ClfyMNN(chainer.Chain):\n",
    "    def __init__(self, n_in, n_units, n_out, train=True):\n",
    "        super(ClfyMNN, self).__init__(\n",
    "            l1=L.Linear(n_in, n_units),\n",
    "            l2=L.Linear(n_units, n_units),\n",
    "            l3=L.Linear(n_units, n_units),\n",
    "            l4=L.Linear(n_units, n_out),\n",
    "        )\n",
    "        self.train = train\n",
    "    \n",
    "    # 全てReLUで実施\n",
    "    def __call__(self, x):\n",
    "        h1 = F.relu(self.l1(x))\n",
    "        h2 = F.relu(self.l2(h1))\n",
    "        h3 = F.relu(self.l3(h2))\n",
    "        y = self.l4(h3)\n",
    "        return y"
   ]
  },
  {
   "cell_type": "markdown",
   "metadata": {},
   "source": [
    "### バッチサイズや隠れ層のユニット数"
   ]
  },
  {
   "cell_type": "code",
   "execution_count": 8,
   "metadata": {
    "collapsed": true
   },
   "outputs": [],
   "source": [
    "batchsize = 100 # 学習時サンプルデータ分割バッチサイズ\n",
    "n_epoch = 20 # 学習ループ数\n",
    "n_units = 50 # 隠れ層のユニット数"
   ]
  },
  {
   "cell_type": "markdown",
   "metadata": {},
   "source": [
    "### 各種設定"
   ]
  },
  {
   "cell_type": "code",
   "execution_count": 9,
   "metadata": {
    "collapsed": true
   },
   "outputs": [],
   "source": [
    "n_in = 8 # 入力データの次元\n",
    "n_out = 3 # 分類だと分類数を定義\n",
    "\n",
    "model = L.Classifier(ClfyMNN(n_in, n_units, n_out))\n",
    "# cuda.get_device(0).use() # For GPU\n",
    "# model.to_gpu() # For GPU\n",
    "# xp = cuda.cupy # For GPU\n",
    "xp = np  # For CPU"
   ]
  },
  {
   "cell_type": "code",
   "execution_count": 10,
   "metadata": {
    "collapsed": true
   },
   "outputs": [],
   "source": [
    "# 最適化手法の指定\n",
    "optimizer = optimizers.Adam() # とりあえず無難なAdam\n",
    "optimizer.setup(model)"
   ]
  },
  {
   "cell_type": "markdown",
   "metadata": {},
   "source": [
    "## 学習の実施"
   ]
  },
  {
   "cell_type": "code",
   "execution_count": 11,
   "metadata": {
    "collapsed": false
   },
   "outputs": [
    {
     "name": "stdout",
     "output_type": "stream",
     "text": [
      "epoch 5\n",
      "train mean loss=1.061263918876648, accuracy=0.42000000314279035\n",
      "test mean loss=1.107223629951477, accuracy=0.3232323229312897\n",
      "epoch 10\n",
      "train mean loss=1.0240410674702038, accuracy=0.4709090942686254\n",
      "test mean loss=1.1219933032989502, accuracy=0.3636363744735718\n",
      "epoch 15\n",
      "train mean loss=0.9914211143146862, accuracy=0.5090909058397467\n",
      "test mean loss=1.1356171369552612, accuracy=0.35353535413742065\n",
      "epoch 20\n",
      "train mean loss=0.9584353241053495, accuracy=0.5400000052018599\n",
      "test mean loss=1.1542686223983765, accuracy=0.34343433380126953\n"
     ]
    }
   ],
   "source": [
    "out_train_accuracy = []\n",
    "out_test_accuracy = []\n",
    "out_train_loss = []\n",
    "out_test_loss = []\n",
    "\n",
    "print_epoch = 5 # 途中経過出力タイミング\n",
    "\n",
    "# Learning loop\n",
    "for epoch in six.moves.range(1, n_epoch + 1):\n",
    "    if epoch % print_epoch == 0:\n",
    "        print('epoch', epoch)\n",
    "        \n",
    "    # training step\n",
    "    perm = np.random.permutation(N)\n",
    "    sum_accuracy = 0\n",
    "    sum_loss = 0\n",
    "\n",
    "    for i in six.moves.range(0, N, batchsize):\n",
    "        x = chainer.Variable(xp.asarray(x_train[perm[i:i + batchsize]]))\n",
    "        t = chainer.Variable(xp.asarray(y_train[perm[i:i + batchsize]]))\n",
    "        \n",
    "        # Pass loss function\n",
    "        optimizer.update(model, x, t)\n",
    "        \n",
    "        # モデルのグラフ出力(要GraphViz)\n",
    "        #if epoch == 1 and i == 0:\n",
    "        #    with open('graph.dot', 'w') as o:\n",
    "        #        g = computational_graph.build_computational_graph(\n",
    "        #            (model.loss, ))\n",
    "        #        o.write(g.dump())\n",
    "        #    print('graph generated')\n",
    "        \n",
    "        sum_loss += float(model.loss.data) * len(t.data)\n",
    "        sum_accuracy += float(model.accuracy.data) * len(t.data)\n",
    "    \n",
    "    out_train_accuracy.append(sum_accuracy / N)\n",
    "    out_train_loss.append(sum_loss / N)\n",
    "    if epoch % print_epoch == 0:\n",
    "        print('train mean loss={}, accuracy={}'.format(\n",
    "            sum_loss / N, sum_accuracy / N))\n",
    "    \n",
    "    # Evaluation step\n",
    "    sum_accuracy = 0\n",
    "    sum_loss = 0\n",
    "    for i in six.moves.range(0, N_test, batchsize):\n",
    "        x = chainer.Variable(xp.asarray(x_test[i:i + batchsize]),\n",
    "                            volatile='on') # パラメータの更新をさせないようにvolatile='on'に\n",
    "        t = chainer.Variable(xp.asarray(y_test[i:i + batchsize]),\n",
    "                            volatile='on')\n",
    "        loss = model(x, t)\n",
    "        sum_loss += float(loss.data) * len(t.data)\n",
    "        sum_accuracy += float(model.accuracy.data) * len(t.data)\n",
    "        \n",
    "    out_test_accuracy.append(sum_accuracy / N_test)\n",
    "    out_test_loss.append(sum_loss / N_test)\n",
    "    if epoch % print_epoch == 0:\n",
    "        print('test mean loss={}, accuracy={}'.format(\n",
    "            sum_loss / N_test, sum_accuracy / N_test))"
   ]
  },
  {
   "cell_type": "markdown",
   "metadata": {},
   "source": [
    "## 学習の結果\n",
    "\n",
    "epochの進捗とそれに合わせた的中率をプロット.\n",
    "\n",
    "過学習になっていないかtestデータの的中率を見た方が良い."
   ]
  },
  {
   "cell_type": "code",
   "execution_count": 12,
   "metadata": {
    "collapsed": false
   },
   "outputs": [
    {
     "data": {
      "image/png": "[encoded data removed]",
      "text/plain": [
       "<matplotlib.figure.Figure at 0x1098afeb8>"
      ]
     },
     "metadata": {},
     "output_type": "display_data"
    }
   ],
   "source": [
    "plt.style.use('ggplot') # ggplot風出力\n",
    "\n",
    "plt.plot(out_test_accuracy, label='test_data')\n",
    "plt.plot(out_train_accuracy, label='train_data')\n",
    "\n",
    "plt.xlabel('epoch')\n",
    "plt.ylabel('accuracy')\n",
    "plt.legend(loc = 5) # 凡例の場所指定\n",
    "\n",
    "plt.show()"
   ]
  },
  {
   "cell_type": "markdown",
   "metadata": {
    "collapsed": true
   },
   "source": [
    "## モデルの予測値について"
   ]
  },
  {
   "cell_type": "code",
   "execution_count": 13,
   "metadata": {
    "collapsed": false
   },
   "outputs": [],
   "source": [
    "# 学習されたパラメータへもう一度テストデータを通す(ここはもっといいやり方ありそう)\n",
    "out_h1 = F.relu(model.predictor.l1(chainer.Variable(xp.asarray(x_test))))\n",
    "out_h2 = F.relu(model.predictor.l2(out_h1))\n",
    "out_h3 = F.relu(model.predictor.l3(out_h2))\n",
    "estimate_y = model.predictor.l4(out_h3)"
   ]
  },
  {
   "cell_type": "code",
   "execution_count": 14,
   "metadata": {
    "collapsed": false
   },
   "outputs": [
    {
     "data": {
      "text/html": [
       "<div>\n",
       "<table border=\"1\" class=\"dataframe\">\n",
       "  <thead>\n",
       "    <tr style=\"text-align: right;\">\n",
       "      <th></th>\n",
       "      <th>est</th>\n",
       "    </tr>\n",
       "  </thead>\n",
       "  <tbody>\n",
       "    <tr>\n",
       "      <th>0</th>\n",
       "      <td>1</td>\n",
       "    </tr>\n",
       "    <tr>\n",
       "      <th>1</th>\n",
       "      <td>2</td>\n",
       "    </tr>\n",
       "    <tr>\n",
       "      <th>2</th>\n",
       "      <td>2</td>\n",
       "    </tr>\n",
       "    <tr>\n",
       "      <th>3</th>\n",
       "      <td>2</td>\n",
       "    </tr>\n",
       "    <tr>\n",
       "      <th>4</th>\n",
       "      <td>2</td>\n",
       "    </tr>\n",
       "  </tbody>\n",
       "</table>\n",
       "</div>"
      ],
      "text/plain": [
       "   est\n",
       "0    1\n",
       "1    2\n",
       "2    2\n",
       "3    2\n",
       "4    2"
      ]
     },
     "execution_count": 14,
     "metadata": {},
     "output_type": "execute_result"
    }
   ],
   "source": [
    "#t = cuda.to_cpu(estimate_y.data) # For GPU\n",
    "t = estimate_y.data # arrayとしてデータを取り出す\n",
    "\n",
    "# 一番大きいargmentを推定値とする\n",
    "est = []\n",
    "for idx in range(N_test):\n",
    "    est.append(np.argmax(t[idx,:]))\n",
    "pd_est = pd.DataFrame(est)\n",
    "pd_est.columns = ['est']\n",
    "pd_est.head(5)"
   ]
  },
  {
   "cell_type": "code",
   "execution_count": 15,
   "metadata": {
    "collapsed": false
   },
   "outputs": [
    {
     "data": {
      "text/html": [
       "<div>\n",
       "<table border=\"1\" class=\"dataframe\">\n",
       "  <thead>\n",
       "    <tr style=\"text-align: right;\">\n",
       "      <th></th>\n",
       "      <th>est</th>\n",
       "      <th>out</th>\n",
       "      <th>compare</th>\n",
       "    </tr>\n",
       "  </thead>\n",
       "  <tbody>\n",
       "    <tr>\n",
       "      <th>0</th>\n",
       "      <td>1</td>\n",
       "      <td>1</td>\n",
       "      <td>1</td>\n",
       "    </tr>\n",
       "    <tr>\n",
       "      <th>1</th>\n",
       "      <td>2</td>\n",
       "      <td>2</td>\n",
       "      <td>1</td>\n",
       "    </tr>\n",
       "    <tr>\n",
       "      <th>2</th>\n",
       "      <td>2</td>\n",
       "      <td>1</td>\n",
       "      <td>0</td>\n",
       "    </tr>\n",
       "    <tr>\n",
       "      <th>3</th>\n",
       "      <td>2</td>\n",
       "      <td>1</td>\n",
       "      <td>0</td>\n",
       "    </tr>\n",
       "    <tr>\n",
       "      <th>4</th>\n",
       "      <td>2</td>\n",
       "      <td>0</td>\n",
       "      <td>0</td>\n",
       "    </tr>\n",
       "    <tr>\n",
       "      <th>5</th>\n",
       "      <td>0</td>\n",
       "      <td>0</td>\n",
       "      <td>1</td>\n",
       "    </tr>\n",
       "    <tr>\n",
       "      <th>6</th>\n",
       "      <td>2</td>\n",
       "      <td>0</td>\n",
       "      <td>0</td>\n",
       "    </tr>\n",
       "    <tr>\n",
       "      <th>7</th>\n",
       "      <td>0</td>\n",
       "      <td>1</td>\n",
       "      <td>0</td>\n",
       "    </tr>\n",
       "    <tr>\n",
       "      <th>8</th>\n",
       "      <td>2</td>\n",
       "      <td>0</td>\n",
       "      <td>0</td>\n",
       "    </tr>\n",
       "    <tr>\n",
       "      <th>9</th>\n",
       "      <td>2</td>\n",
       "      <td>0</td>\n",
       "      <td>0</td>\n",
       "    </tr>\n",
       "    <tr>\n",
       "      <th>10</th>\n",
       "      <td>2</td>\n",
       "      <td>0</td>\n",
       "      <td>0</td>\n",
       "    </tr>\n",
       "    <tr>\n",
       "      <th>11</th>\n",
       "      <td>0</td>\n",
       "      <td>2</td>\n",
       "      <td>0</td>\n",
       "    </tr>\n",
       "    <tr>\n",
       "      <th>12</th>\n",
       "      <td>0</td>\n",
       "      <td>1</td>\n",
       "      <td>0</td>\n",
       "    </tr>\n",
       "    <tr>\n",
       "      <th>13</th>\n",
       "      <td>0</td>\n",
       "      <td>0</td>\n",
       "      <td>1</td>\n",
       "    </tr>\n",
       "    <tr>\n",
       "      <th>14</th>\n",
       "      <td>0</td>\n",
       "      <td>2</td>\n",
       "      <td>0</td>\n",
       "    </tr>\n",
       "    <tr>\n",
       "      <th>15</th>\n",
       "      <td>1</td>\n",
       "      <td>0</td>\n",
       "      <td>0</td>\n",
       "    </tr>\n",
       "    <tr>\n",
       "      <th>16</th>\n",
       "      <td>0</td>\n",
       "      <td>0</td>\n",
       "      <td>1</td>\n",
       "    </tr>\n",
       "    <tr>\n",
       "      <th>17</th>\n",
       "      <td>0</td>\n",
       "      <td>1</td>\n",
       "      <td>0</td>\n",
       "    </tr>\n",
       "    <tr>\n",
       "      <th>18</th>\n",
       "      <td>0</td>\n",
       "      <td>0</td>\n",
       "      <td>1</td>\n",
       "    </tr>\n",
       "    <tr>\n",
       "      <th>19</th>\n",
       "      <td>0</td>\n",
       "      <td>2</td>\n",
       "      <td>0</td>\n",
       "    </tr>\n",
       "  </tbody>\n",
       "</table>\n",
       "</div>"
      ],
      "text/plain": [
       "    est  out  compare\n",
       "0     1    1        1\n",
       "1     2    2        1\n",
       "2     2    1        0\n",
       "3     2    1        0\n",
       "4     2    0        0\n",
       "5     0    0        1\n",
       "6     2    0        0\n",
       "7     0    1        0\n",
       "8     2    0        0\n",
       "9     2    0        0\n",
       "10    2    0        0\n",
       "11    0    2        0\n",
       "12    0    1        0\n",
       "13    0    0        1\n",
       "14    0    2        0\n",
       "15    1    0        0\n",
       "16    0    0        1\n",
       "17    0    1        0\n",
       "18    0    0        1\n",
       "19    0    2        0"
      ]
     },
     "execution_count": 15,
     "metadata": {},
     "output_type": "execute_result"
    }
   ],
   "source": [
    "# 元々のデータをくっつけてみる\n",
    "pd_ans = pd_y.reset_index(drop=True) # シャッフルしてるのでindex振り直しておく\n",
    "pd_ans.columns = ['ans']\n",
    "\n",
    "pd_compare = pd.concat([pd_est, pd_ans], axis=1)\n",
    "pd_compare['compare'] = np.where(pd_compare['est'] == pd_compare['out'], 1, 0) # 当たってたら1、外れてたら0\n",
    "pd_compare.head(20)"
   ]
  },
  {
   "cell_type": "code",
   "execution_count": 16,
   "metadata": {
    "collapsed": false
   },
   "outputs": [
    {
     "name": "stdout",
     "output_type": "stream",
     "text": [
      "的中率：32.323232323232325 %\n"
     ]
    }
   ],
   "source": [
    "N_match = pd_compare['compare'].sum(axis=0)\n",
    "Per_match = 100 * N_match / N_test\n",
    "print(u'的中率：{} %'.format(Per_match))"
   ]
  }
 ],
 "metadata": {
  "kernelspec": {
   "display_name": "Python 3",
   "language": "python",
   "name": "python3"
  },
  "language_info": {
   "codemirror_mode": {
    "name": "ipython",
    "version": 3
   },
   "file_extension": ".py",
   "mimetype": "text/x-python",
   "name": "python",
   "nbconvert_exporter": "python",
   "pygments_lexer": "ipython3",
   "version": "3.5.0"
  }
 },
 "nbformat": 4,
 "nbformat_minor": 0
}
