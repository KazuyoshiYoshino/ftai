{
 "cells": [
  {
   "cell_type": "markdown",
   "metadata": {},
   "source": [
    "# Keras基本例\n",
    "\n",
    "以下ではKerasのベースとなるコードを置いておく.\n",
    "\n",
    "追記など歓迎だが基本は公式exampleが豊富なためそちらを参考にする方が良いだろう.\n",
    "\n",
    "https://github.com/fchollet/keras/tree/master/examples\n",
    "\n",
    "大きな違いとして自動微分などをTheanoにやらせるかTensorFlowにやらせるか\n",
    "選ぶことができる.\n",
    "\n",
    "初期設定だとTheanoが背後で動くこととなる."
   ]
  },
  {
   "cell_type": "code",
   "execution_count": 1,
   "metadata": {
    "collapsed": false
   },
   "outputs": [
    {
     "name": "stderr",
     "output_type": "stream",
     "text": [
      "Using Theano backend.\n"
     ]
    }
   ],
   "source": [
    "import numpy as np\n",
    "import pandas as pd\n",
    "from sklearn.preprocessing import scale\n",
    "np.random.seed(1337)  # for reproducibility\n",
    "\n",
    "from keras.datasets import mnist\n",
    "from keras.models import Sequential\n",
    "from keras.layers.core import Dense, Dropout, Activation\n",
    "from keras.optimizers import SGD, Adam, RMSprop\n",
    "from keras.utils import np_utils"
   ]
  },
  {
   "cell_type": "markdown",
   "metadata": {},
   "source": [
    "## 使用データ\n",
    "\n",
    "何かしらデータを用意する.\n",
    "ここではchainerの例と全く同じものを置く.\n",
    "\n",
    "時系列を考慮しない場合など、データ順をシャッフル等したのちに、\n",
    "教師データとテストデータに分割する必要がある.\n",
    "\n",
    "ここではダミーデータとして乱数を置いた8変数と0,1,2を順番に教師データとして貼り付けたものを置く."
   ]
  },
  {
   "cell_type": "code",
   "execution_count": 2,
   "metadata": {
    "collapsed": false
   },
   "outputs": [
    {
     "data": {
      "text/html": [
       "<div>\n",
       "<table border=\"1\" class=\"dataframe\">\n",
       "  <thead>\n",
       "    <tr style=\"text-align: right;\">\n",
       "      <th></th>\n",
       "      <th>in0</th>\n",
       "      <th>in1</th>\n",
       "      <th>in2</th>\n",
       "      <th>in3</th>\n",
       "      <th>in4</th>\n",
       "      <th>in5</th>\n",
       "      <th>in6</th>\n",
       "      <th>in7</th>\n",
       "      <th>out</th>\n",
       "    </tr>\n",
       "  </thead>\n",
       "  <tbody>\n",
       "    <tr>\n",
       "      <th>0</th>\n",
       "      <td>0.790158</td>\n",
       "      <td>0.154701</td>\n",
       "      <td>0.554273</td>\n",
       "      <td>0.589591</td>\n",
       "      <td>0.652273</td>\n",
       "      <td>0.809005</td>\n",
       "      <td>0.727239</td>\n",
       "      <td>0.722377</td>\n",
       "      <td>0</td>\n",
       "    </tr>\n",
       "    <tr>\n",
       "      <th>1</th>\n",
       "      <td>0.966113</td>\n",
       "      <td>0.082956</td>\n",
       "      <td>0.427091</td>\n",
       "      <td>0.313592</td>\n",
       "      <td>0.036717</td>\n",
       "      <td>0.688759</td>\n",
       "      <td>0.747233</td>\n",
       "      <td>0.084873</td>\n",
       "      <td>1</td>\n",
       "    </tr>\n",
       "    <tr>\n",
       "      <th>2</th>\n",
       "      <td>0.744551</td>\n",
       "      <td>0.080415</td>\n",
       "      <td>0.534023</td>\n",
       "      <td>0.874443</td>\n",
       "      <td>0.058886</td>\n",
       "      <td>0.941214</td>\n",
       "      <td>0.234062</td>\n",
       "      <td>0.138623</td>\n",
       "      <td>2</td>\n",
       "    </tr>\n",
       "    <tr>\n",
       "      <th>3</th>\n",
       "      <td>0.386799</td>\n",
       "      <td>0.339775</td>\n",
       "      <td>0.758028</td>\n",
       "      <td>0.176749</td>\n",
       "      <td>0.545578</td>\n",
       "      <td>0.645455</td>\n",
       "      <td>0.264393</td>\n",
       "      <td>0.762566</td>\n",
       "      <td>0</td>\n",
       "    </tr>\n",
       "    <tr>\n",
       "      <th>4</th>\n",
       "      <td>0.000760</td>\n",
       "      <td>0.339114</td>\n",
       "      <td>0.865157</td>\n",
       "      <td>0.730987</td>\n",
       "      <td>0.061821</td>\n",
       "      <td>0.209777</td>\n",
       "      <td>0.090273</td>\n",
       "      <td>0.183841</td>\n",
       "      <td>1</td>\n",
       "    </tr>\n",
       "    <tr>\n",
       "      <th>5</th>\n",
       "      <td>0.497581</td>\n",
       "      <td>0.680770</td>\n",
       "      <td>0.914901</td>\n",
       "      <td>0.990791</td>\n",
       "      <td>0.040909</td>\n",
       "      <td>0.355208</td>\n",
       "      <td>0.881591</td>\n",
       "      <td>0.513112</td>\n",
       "      <td>2</td>\n",
       "    </tr>\n",
       "    <tr>\n",
       "      <th>6</th>\n",
       "      <td>0.531146</td>\n",
       "      <td>0.372347</td>\n",
       "      <td>0.246750</td>\n",
       "      <td>0.270516</td>\n",
       "      <td>0.120391</td>\n",
       "      <td>0.682658</td>\n",
       "      <td>0.272929</td>\n",
       "      <td>0.861646</td>\n",
       "      <td>0</td>\n",
       "    </tr>\n",
       "    <tr>\n",
       "      <th>7</th>\n",
       "      <td>0.475195</td>\n",
       "      <td>0.512204</td>\n",
       "      <td>0.533743</td>\n",
       "      <td>0.152647</td>\n",
       "      <td>0.070142</td>\n",
       "      <td>0.915401</td>\n",
       "      <td>0.297802</td>\n",
       "      <td>0.617966</td>\n",
       "      <td>1</td>\n",
       "    </tr>\n",
       "    <tr>\n",
       "      <th>8</th>\n",
       "      <td>0.841105</td>\n",
       "      <td>0.780319</td>\n",
       "      <td>0.212918</td>\n",
       "      <td>0.535849</td>\n",
       "      <td>0.639757</td>\n",
       "      <td>0.296344</td>\n",
       "      <td>0.653013</td>\n",
       "      <td>0.106019</td>\n",
       "      <td>2</td>\n",
       "    </tr>\n",
       "    <tr>\n",
       "      <th>9</th>\n",
       "      <td>0.221653</td>\n",
       "      <td>0.749487</td>\n",
       "      <td>0.411809</td>\n",
       "      <td>0.103275</td>\n",
       "      <td>0.610809</td>\n",
       "      <td>0.310699</td>\n",
       "      <td>0.501801</td>\n",
       "      <td>0.186794</td>\n",
       "      <td>0</td>\n",
       "    </tr>\n",
       "  </tbody>\n",
       "</table>\n",
       "</div>"
      ],
      "text/plain": [
       "        in0       in1       in2       in3       in4       in5       in6  \\\n",
       "0  0.790158  0.154701  0.554273  0.589591  0.652273  0.809005  0.727239   \n",
       "1  0.966113  0.082956  0.427091  0.313592  0.036717  0.688759  0.747233   \n",
       "2  0.744551  0.080415  0.534023  0.874443  0.058886  0.941214  0.234062   \n",
       "3  0.386799  0.339775  0.758028  0.176749  0.545578  0.645455  0.264393   \n",
       "4  0.000760  0.339114  0.865157  0.730987  0.061821  0.209777  0.090273   \n",
       "5  0.497581  0.680770  0.914901  0.990791  0.040909  0.355208  0.881591   \n",
       "6  0.531146  0.372347  0.246750  0.270516  0.120391  0.682658  0.272929   \n",
       "7  0.475195  0.512204  0.533743  0.152647  0.070142  0.915401  0.297802   \n",
       "8  0.841105  0.780319  0.212918  0.535849  0.639757  0.296344  0.653013   \n",
       "9  0.221653  0.749487  0.411809  0.103275  0.610809  0.310699  0.501801   \n",
       "\n",
       "        in7  out  \n",
       "0  0.722377    0  \n",
       "1  0.084873    1  \n",
       "2  0.138623    2  \n",
       "3  0.762566    0  \n",
       "4  0.183841    1  \n",
       "5  0.513112    2  \n",
       "6  0.861646    0  \n",
       "7  0.617966    1  \n",
       "8  0.106019    2  \n",
       "9  0.186794    0  "
      ]
     },
     "execution_count": 2,
     "metadata": {},
     "output_type": "execute_result"
    }
   ],
   "source": [
    "inputCSV = pd.read_csv('sample.csv')\n",
    "inputCSV.head(10)"
   ]
  },
  {
   "cell_type": "code",
   "execution_count": 3,
   "metadata": {
    "collapsed": false
   },
   "outputs": [
    {
     "data": {
      "text/html": [
       "<div>\n",
       "<table border=\"1\" class=\"dataframe\">\n",
       "  <thead>\n",
       "    <tr style=\"text-align: right;\">\n",
       "      <th></th>\n",
       "      <th>in0</th>\n",
       "      <th>in1</th>\n",
       "      <th>in2</th>\n",
       "      <th>in3</th>\n",
       "      <th>in4</th>\n",
       "      <th>in5</th>\n",
       "      <th>in6</th>\n",
       "      <th>in7</th>\n",
       "      <th>out</th>\n",
       "    </tr>\n",
       "  </thead>\n",
       "  <tbody>\n",
       "    <tr>\n",
       "      <th>32</th>\n",
       "      <td>0.230549</td>\n",
       "      <td>0.208000</td>\n",
       "      <td>0.333284</td>\n",
       "      <td>0.700938</td>\n",
       "      <td>0.251512</td>\n",
       "      <td>0.935525</td>\n",
       "      <td>0.226757</td>\n",
       "      <td>0.561664</td>\n",
       "      <td>2</td>\n",
       "    </tr>\n",
       "    <tr>\n",
       "      <th>553</th>\n",
       "      <td>0.206690</td>\n",
       "      <td>0.232268</td>\n",
       "      <td>0.496381</td>\n",
       "      <td>0.560796</td>\n",
       "      <td>0.436243</td>\n",
       "      <td>0.088000</td>\n",
       "      <td>0.301537</td>\n",
       "      <td>0.918334</td>\n",
       "      <td>1</td>\n",
       "    </tr>\n",
       "    <tr>\n",
       "      <th>267</th>\n",
       "      <td>0.881435</td>\n",
       "      <td>0.143742</td>\n",
       "      <td>0.050873</td>\n",
       "      <td>0.930970</td>\n",
       "      <td>0.883936</td>\n",
       "      <td>0.578942</td>\n",
       "      <td>0.911516</td>\n",
       "      <td>0.538892</td>\n",
       "      <td>0</td>\n",
       "    </tr>\n",
       "    <tr>\n",
       "      <th>116</th>\n",
       "      <td>0.312668</td>\n",
       "      <td>0.449879</td>\n",
       "      <td>0.415017</td>\n",
       "      <td>0.088452</td>\n",
       "      <td>0.680457</td>\n",
       "      <td>0.988966</td>\n",
       "      <td>0.681649</td>\n",
       "      <td>0.788840</td>\n",
       "      <td>2</td>\n",
       "    </tr>\n",
       "    <tr>\n",
       "      <th>112</th>\n",
       "      <td>0.881658</td>\n",
       "      <td>0.351754</td>\n",
       "      <td>0.978736</td>\n",
       "      <td>0.993963</td>\n",
       "      <td>0.979555</td>\n",
       "      <td>0.477020</td>\n",
       "      <td>0.313229</td>\n",
       "      <td>0.459503</td>\n",
       "      <td>1</td>\n",
       "    </tr>\n",
       "    <tr>\n",
       "      <th>464</th>\n",
       "      <td>0.766460</td>\n",
       "      <td>0.944161</td>\n",
       "      <td>0.802672</td>\n",
       "      <td>0.690536</td>\n",
       "      <td>0.052631</td>\n",
       "      <td>0.412545</td>\n",
       "      <td>0.827863</td>\n",
       "      <td>0.956309</td>\n",
       "      <td>2</td>\n",
       "    </tr>\n",
       "    <tr>\n",
       "      <th>56</th>\n",
       "      <td>0.737255</td>\n",
       "      <td>0.931755</td>\n",
       "      <td>0.948117</td>\n",
       "      <td>0.154918</td>\n",
       "      <td>0.497587</td>\n",
       "      <td>0.570544</td>\n",
       "      <td>0.385176</td>\n",
       "      <td>0.124761</td>\n",
       "      <td>2</td>\n",
       "    </tr>\n",
       "    <tr>\n",
       "      <th>503</th>\n",
       "      <td>0.197783</td>\n",
       "      <td>0.018473</td>\n",
       "      <td>0.467290</td>\n",
       "      <td>0.575517</td>\n",
       "      <td>0.325930</td>\n",
       "      <td>0.310118</td>\n",
       "      <td>0.761745</td>\n",
       "      <td>0.809378</td>\n",
       "      <td>2</td>\n",
       "    </tr>\n",
       "    <tr>\n",
       "      <th>310</th>\n",
       "      <td>0.041252</td>\n",
       "      <td>0.782474</td>\n",
       "      <td>0.847327</td>\n",
       "      <td>0.670386</td>\n",
       "      <td>0.011416</td>\n",
       "      <td>0.096203</td>\n",
       "      <td>0.530901</td>\n",
       "      <td>0.207017</td>\n",
       "      <td>1</td>\n",
       "    </tr>\n",
       "    <tr>\n",
       "      <th>316</th>\n",
       "      <td>0.781330</td>\n",
       "      <td>0.025329</td>\n",
       "      <td>0.784068</td>\n",
       "      <td>0.938632</td>\n",
       "      <td>0.351923</td>\n",
       "      <td>0.744282</td>\n",
       "      <td>0.070422</td>\n",
       "      <td>0.265129</td>\n",
       "      <td>1</td>\n",
       "    </tr>\n",
       "  </tbody>\n",
       "</table>\n",
       "</div>"
      ],
      "text/plain": [
       "          in0       in1       in2       in3       in4       in5       in6  \\\n",
       "32   0.230549  0.208000  0.333284  0.700938  0.251512  0.935525  0.226757   \n",
       "553  0.206690  0.232268  0.496381  0.560796  0.436243  0.088000  0.301537   \n",
       "267  0.881435  0.143742  0.050873  0.930970  0.883936  0.578942  0.911516   \n",
       "116  0.312668  0.449879  0.415017  0.088452  0.680457  0.988966  0.681649   \n",
       "112  0.881658  0.351754  0.978736  0.993963  0.979555  0.477020  0.313229   \n",
       "464  0.766460  0.944161  0.802672  0.690536  0.052631  0.412545  0.827863   \n",
       "56   0.737255  0.931755  0.948117  0.154918  0.497587  0.570544  0.385176   \n",
       "503  0.197783  0.018473  0.467290  0.575517  0.325930  0.310118  0.761745   \n",
       "310  0.041252  0.782474  0.847327  0.670386  0.011416  0.096203  0.530901   \n",
       "316  0.781330  0.025329  0.784068  0.938632  0.351923  0.744282  0.070422   \n",
       "\n",
       "          in7  out  \n",
       "32   0.561664    2  \n",
       "553  0.918334    1  \n",
       "267  0.538892    0  \n",
       "116  0.788840    2  \n",
       "112  0.459503    1  \n",
       "464  0.956309    2  \n",
       "56   0.124761    2  \n",
       "503  0.809378    2  \n",
       "310  0.207017    1  \n",
       "316  0.265129    1  "
      ]
     },
     "execution_count": 3,
     "metadata": {},
     "output_type": "execute_result"
    }
   ],
   "source": [
    "# データの並びをシャッフル\n",
    "calcData = inputCSV.reindex(np.random.permutation(inputCSV.index))\n",
    "calcData.head(10)"
   ]
  },
  {
   "cell_type": "code",
   "execution_count": 4,
   "metadata": {
    "collapsed": true
   },
   "outputs": [],
   "source": [
    "# 入力データと教師データに分割\n",
    "pd_y = calcData['out']\n",
    "pd_x = calcData.drop(['out'], axis=1)\n",
    "\n",
    "# numpy配列にデータフレームから変換\n",
    "x_array = pd_x.as_matrix()\n",
    "y_array = pd_y.as_matrix()"
   ]
  },
  {
   "cell_type": "code",
   "execution_count": 5,
   "metadata": {
    "collapsed": false
   },
   "outputs": [],
   "source": [
    "# 正規化し,float32の型に変換\n",
    "x_scale = scale(x_array).astype(np.float32)\n",
    "\n",
    "# サンプルの一部をテストデータ用に分割\n",
    "N = 550\n",
    "X_train, X_test = np.split(x_scale, [N])"
   ]
  },
  {
   "cell_type": "markdown",
   "metadata": {},
   "source": [
    "### 教師データのラベリング\n",
    "変換が必要な点に注意."
   ]
  },
  {
   "cell_type": "code",
   "execution_count": 7,
   "metadata": {
    "collapsed": true
   },
   "outputs": [],
   "source": [
    "batch_size = 128\n",
    "nb_classes = 3\n",
    "nb_epoch = 5"
   ]
  },
  {
   "cell_type": "code",
   "execution_count": 8,
   "metadata": {
    "collapsed": false
   },
   "outputs": [],
   "source": [
    "y_scale = y_array.astype(np.int32)\n",
    "Y_train, Y_test = np.split(y_scale, [N])\n",
    "\n",
    "# 離散の分類問題の場合、ベクトルのラベルをto_categoricalで変換しておく必要がある.\n",
    "# convert class vectors to binary class matrices\n",
    "Y_train = np_utils.to_categorical(Y_train, nb_classes)\n",
    "Y_test = np_utils.to_categorical(Y_test, nb_classes)"
   ]
  },
  {
   "cell_type": "markdown",
   "metadata": {},
   "source": [
    "## Deep learningのモデル定義\n",
    "\n",
    "以下では暫定的に多層ニューラルネットである3層NNを用いる.\n",
    "\n",
    "(ここが基本的に変更する場所である.)\n",
    "\n",
    "なお、活性化関数にReLUを用いる.\n",
    "\n",
    "また途中に過学習を防ぎ汎化性能を上げる手法であるdropoutが仕込んである."
   ]
  },
  {
   "cell_type": "code",
   "execution_count": 9,
   "metadata": {
    "collapsed": true
   },
   "outputs": [],
   "source": [
    "model = Sequential()\n",
    "model.add(Dense(70, input_shape=(8,)))\n",
    "model.add(Activation('relu'))\n",
    "model.add(Dropout(0.2))\n",
    "model.add(Dense(70))\n",
    "model.add(Activation('relu'))\n",
    "model.add(Dropout(0.2))\n",
    "model.add(Dense(3))\n",
    "model.add(Activation('softmax'))"
   ]
  },
  {
   "cell_type": "markdown",
   "metadata": {},
   "source": [
    "### モデルは一度コンパイルする形式を取るタイプ\n",
    "\n",
    "サマリーが出てちょっと見やすい."
   ]
  },
  {
   "cell_type": "code",
   "execution_count": 10,
   "metadata": {
    "collapsed": false
   },
   "outputs": [
    {
     "name": "stdout",
     "output_type": "stream",
     "text": [
      "____________________________________________________________________________________________________\n",
      "Layer (type)                     Output Shape          Param #     Connected to                     \n",
      "====================================================================================================\n",
      "dense_1 (Dense)                  (None, 70)            630         dense_input_1[0][0]              \n",
      "____________________________________________________________________________________________________\n",
      "activation_1 (Activation)        (None, 70)            0           dense_1[0][0]                    \n",
      "____________________________________________________________________________________________________\n",
      "dropout_1 (Dropout)              (None, 70)            0           activation_1[0][0]               \n",
      "____________________________________________________________________________________________________\n",
      "dense_2 (Dense)                  (None, 70)            4970        dropout_1[0][0]                  \n",
      "____________________________________________________________________________________________________\n",
      "activation_2 (Activation)        (None, 70)            0           dense_2[0][0]                    \n",
      "____________________________________________________________________________________________________\n",
      "dropout_2 (Dropout)              (None, 70)            0           activation_2[0][0]               \n",
      "____________________________________________________________________________________________________\n",
      "dense_3 (Dense)                  (None, 3)             213         dropout_2[0][0]                  \n",
      "____________________________________________________________________________________________________\n",
      "activation_3 (Activation)        (None, 3)             0           dense_3[0][0]                    \n",
      "====================================================================================================\n",
      "Total params: 5813\n",
      "____________________________________________________________________________________________________\n"
     ]
    }
   ],
   "source": [
    "model.summary()\n",
    "\n",
    "model.compile(loss='categorical_crossentropy',\n",
    "              optimizer=RMSprop(),\n",
    "              metrics=['accuracy'])"
   ]
  },
  {
   "cell_type": "markdown",
   "metadata": {},
   "source": [
    "### 学習と結果\n",
    "\n",
    "fitで学習し,evaluateでtestデータから汎化性能をチェックする."
   ]
  },
  {
   "cell_type": "code",
   "execution_count": 11,
   "metadata": {
    "collapsed": false
   },
   "outputs": [
    {
     "name": "stdout",
     "output_type": "stream",
     "text": [
      "Train on 550 samples, validate on 99 samples\n",
      "Epoch 1/5\n",
      "550/550 [==============================] - 0s - loss: 1.1647 - acc: 0.3218 - val_loss: 1.1157 - val_acc: 0.2929\n",
      "Epoch 2/5\n",
      "550/550 [==============================] - 0s - loss: 1.1051 - acc: 0.3691 - val_loss: 1.1060 - val_acc: 0.3434\n",
      "Epoch 3/5\n",
      "550/550 [==============================] - 0s - loss: 1.1072 - acc: 0.3764 - val_loss: 1.0989 - val_acc: 0.3131\n",
      "Epoch 4/5\n",
      "550/550 [==============================] - 0s - loss: 1.1042 - acc: 0.3582 - val_loss: 1.0956 - val_acc: 0.3232\n",
      "Epoch 5/5\n",
      "550/550 [==============================] - 0s - loss: 1.0853 - acc: 0.3982 - val_loss: 1.0923 - val_acc: 0.3434\n",
      "Test score: 1.09226830499\n",
      "Test accuracy: 0.343434344036\n"
     ]
    }
   ],
   "source": [
    "history = model.fit(X_train, Y_train,\n",
    "                    batch_size=batch_size, nb_epoch=nb_epoch,\n",
    "                    verbose=1, validation_data=(X_test, Y_test))\n",
    "score = model.evaluate(X_test, Y_test, verbose=0)\n",
    "print('Test score:', score[0])\n",
    "print('Test accuracy:', score[1])"
   ]
  }
 ],
 "metadata": {
  "kernelspec": {
   "display_name": "Python 3",
   "language": "python",
   "name": "python3"
  },
  "language_info": {
   "codemirror_mode": {
    "name": "ipython",
    "version": 3
   },
   "file_extension": ".py",
   "mimetype": "text/x-python",
   "name": "python",
   "nbconvert_exporter": "python",
   "pygments_lexer": "ipython3",
   "version": "3.5.1"
  }
 },
 "nbformat": 4,
 "nbformat_minor": 0
}
