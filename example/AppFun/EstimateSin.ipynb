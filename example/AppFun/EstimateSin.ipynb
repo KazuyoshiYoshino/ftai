{
 "cells": [
  {
   "cell_type": "code",
   "execution_count": null,
   "metadata": {
    "collapsed": false,
    "scrolled": false
   },
   "outputs": [
    {
     "data": {
      "image/png": "[encoded data removed]",
      "text/plain": [
       "<matplotlib.figure.Figure at 0x10da30390>"
      ]
     },
     "metadata": {},
     "output_type": "display_data"
    }
   ],
   "source": [
    "import os.path\n",
    "import numpy as np\n",
    "import chainer\n",
    "from chainer import cuda, Function, gradient_check, Variable, optimizers, serializers, utils\n",
    "from chainer import Link, Chain, ChainList\n",
    "import chainer.functions as F\n",
    "import chainer.links as L\n",
    "\n",
    "from matplotlib import pyplot as plt\n",
    "%matplotlib inline\n",
    "\n",
    "def getSampleData(n):\n",
    "    x = np.random.randn(n)\n",
    "    y = np.sin(x)\n",
    "    return x,y\n",
    "\n",
    "class MyChain(Chain):\n",
    "    def __init__(self):\n",
    "        super(MyChain, self).__init__(\n",
    "             l1=L.Linear(1, 16),  # Input 1  Outpu 16\n",
    "             l2=L.Linear(16, 32), # Input 16 output 32\n",
    "             l3=L.Linear(32, 1), # Input 32 output 1\n",
    "        )\n",
    "\n",
    "    def __call__(self,x,t):\n",
    "        # x is input\n",
    "        # t is answwer\n",
    "        # Return error \n",
    "        return F.mean_squared_error(self.predict(x),t)\n",
    "\n",
    "    def  predict(self,x):\n",
    "        # x is input\n",
    "        # return network output.\n",
    "        h1 = F.leaky_relu(self.l1(x))\n",
    "        h2 = F.leaky_relu(self.l2(h1))\n",
    "        h3 = F.leaky_relu(self.l3(h2))\n",
    "        return h3\n",
    "\n",
    "    def get(self,x):\n",
    "        # Utiltiy function input real -> output real\n",
    "        return self.predict(Variable(np.array([x]).astype(np.float32).reshape(1,1))).data[0][0]\n",
    "\n",
    "\n",
    "losses =[]\n",
    "from IPython import display\n",
    "\n",
    "modelFile='EstimateSin.model'\n",
    "\n",
    "model = MyChain()\n",
    "if os.path.exists(modelFile):\n",
    "    serializers.load_npz(modelFile, model)\n",
    "\n",
    "optimizer = optimizers.Adam()\n",
    "optimizer.setup(model)\n",
    "\n",
    "plt.hold(False)\n",
    "\n",
    "for i in range(3000):\n",
    "    x,y = getSampleData(200)\n",
    "    x_ = Variable(x.astype(np.float32).reshape(200,1))\n",
    "    t_ = Variable(y.astype(np.float32).reshape(200,1))\n",
    "\n",
    "    model.zerograds()\n",
    "    loss=model(x_,t_)\n",
    "    loss.backward()\n",
    "    optimizer.update()\n",
    "\n",
    "    losses.append(loss.data)\n",
    "\n",
    "    if i%10==0:\n",
    "        x=np.linspace(-6,6,600)\n",
    "        plt.plot(x,np.sin(x))\n",
    "        plt.hold(True)\n",
    "        p=model.predict(Variable(x.astype(np.float32).reshape(600,1))).data\n",
    "        _=plt.plot(x, p,\"r\")\n",
    "        display.clear_output(wait=True)\n",
    "        display.display(plt.gcf())\n",
    "        plt.hold(False)\n",
    "\n",
    "#        plt.plot(losses,\"b\")\n",
    "#        plt.yscale('log')\n",
    "#        display.clear_output(wait=True)\n",
    "#        display.display(plt.gcf())\n",
    "    if i%100==0:\n",
    "        serializers.save_npz(modelFile, model)\n",
    "\n",
    "display.clear_output(wait=True)\n",
    "\n",
    "\n"
   ]
  },
  {
   "cell_type": "code",
   "execution_count": null,
   "metadata": {
    "collapsed": true
   },
   "outputs": [],
   "source": []
  },
  {
   "cell_type": "code",
   "execution_count": null,
   "metadata": {
    "collapsed": true
   },
   "outputs": [],
   "source": []
  },
  {
   "cell_type": "code",
   "execution_count": null,
   "metadata": {
    "collapsed": true
   },
   "outputs": [],
   "source": []
  }
 ],
 "metadata": {
  "kernelspec": {
   "display_name": "Python [Root]",
   "language": "python",
   "name": "Python [Root]"
  },
  "language_info": {
   "codemirror_mode": {
    "name": "ipython",
    "version": 3
   },
   "file_extension": ".py",
   "mimetype": "text/x-python",
   "name": "python",
   "nbconvert_exporter": "python",
   "pygments_lexer": "ipython3",
   "version": "3.5.1"
  }
 },
 "nbformat": 4,
 "nbformat_minor": 0
}
